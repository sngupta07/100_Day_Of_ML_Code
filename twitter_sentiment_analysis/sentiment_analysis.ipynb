{
 "cells": [
  {
   "cell_type": "markdown",
   "metadata": {},
   "source": [
    "### Data has been taken from [Analytics Vidya](https://datahack.analyticsvidhya.com/contest/practice-problem-twitter-sentiment-analysis/)"
   ]
  },
  {
   "cell_type": "markdown",
   "metadata": {},
   "source": [
    "### Problem Statement\n",
    "\n",
    "The objective of this task is to detect hate speech in tweets. For the sake of simplicity, we say a tweet contains hate speech if it has a racist or sexist sentiment associated with it. So, the task is to classify racist or sexist tweets from other tweets.\n",
    "\n",
    "Formally, given a training sample of tweets and labels, where label '1' denotes the tweet is racist/sexist and label '0' denotes the tweet is not racist/sexist, your objective is to predict the labels on the test dataset."
   ]
  },
  {
   "cell_type": "markdown",
   "metadata": {},
   "source": [
    "### Evaluation Metric:\n",
    "\n",
    "The metric used for evaluating the performance of classification model would be F1-Score.\n",
    "\n",
    " \n",
    "\n",
    "The metric can be understood as -\n",
    "\n",
    " \n",
    "\n",
    "#### True Positives (TP):\n",
    "These are the correctly predicted positive values which means that the value of actual class is yes and the value of predicted class is also yes.\n",
    "\n",
    "#### True Negatives (TN):\n",
    "These are the correctly predicted negative values which means that the value of actual class is no and value of predicted class is also no.\n",
    "\n",
    "#### False Positives (FP):\n",
    "When actual class is no and predicted class is yes.\n",
    "\n",
    "#### False Negatives (FN):\n",
    "When actual class is yes but predicted class in no.\n",
    "\n",
    "#### Precision = TP/TP+FP\n",
    "\n",
    "#### Recall = TP/TP+FN\n",
    "\n",
    " \n",
    "\n",
    "#### F1 Score = 2*(Recall * Precision) / (Recall + Precision)"
   ]
  },
  {
   "cell_type": "markdown",
   "metadata": {},
   "source": [
    "<b> Here, I'm going to use all the implementation using numpy, pandas and scikit-learn library.</b>"
   ]
  },
  {
   "cell_type": "code",
   "execution_count": 1,
   "metadata": {},
   "outputs": [],
   "source": [
    "import re\n",
    "\n",
    "import numpy as np\n",
    "import pandas as pd\n",
    "\n",
    "import matplotlib.pyplot as plt\n",
    "import seaborn as sns\n",
    "\n",
    "from string import punctuation\n",
    "from sklearn.feature_extraction.text import CountVectorizer, TfidfVectorizer, ENGLISH_STOP_WORDS\n",
    "\n",
    "from sklearn.linear_model import LogisticRegression\n",
    "from sklearn.naive_bayes import GaussianNB, BernoulliNB\n",
    "from sklearn.svm import SVC\n",
    "from sklearn.discriminant_analysis import LinearDiscriminantAnalysis\n",
    "from sklearn.neighbors import KNeighborsClassifier\n",
    "from sklearn.ensemble import RandomForestClassifier, GradientBoostingClassifier, VotingClassifier\n",
    "from sklearn.model_selection import train_test_split, RandomizedSearchCV, cross_val_score\n",
    "from sklearn.metrics import accuracy_score, roc_auc_score, f1_score, recall_score, precision_recall_curve, precision_score\n",
    "from sklearn.metrics import confusion_matrix, classification_report\n",
    "from mlxtend.plotting import plot_confusion_matrix"
   ]
  },
  {
   "cell_type": "code",
   "execution_count": 2,
   "metadata": {},
   "outputs": [],
   "source": [
    "%matplotlib inline"
   ]
  },
  {
   "cell_type": "code",
   "execution_count": 3,
   "metadata": {},
   "outputs": [],
   "source": [
    "train_= pd.read_csv('train.csv')\n",
    "test_= pd.read_csv('test.csv')"
   ]
  },
  {
   "cell_type": "code",
   "execution_count": 4,
   "metadata": {},
   "outputs": [],
   "source": [
    "train, test= train_.copy(), test_.copy()"
   ]
  },
  {
   "cell_type": "code",
   "execution_count": 5,
   "metadata": {},
   "outputs": [
    {
     "data": {
      "text/plain": [
       "((31962, 3), (17197, 2))"
      ]
     },
     "execution_count": 5,
     "metadata": {},
     "output_type": "execute_result"
    }
   ],
   "source": [
    "train.shape, test.shape"
   ]
  },
  {
   "cell_type": "code",
   "execution_count": 6,
   "metadata": {},
   "outputs": [
    {
     "data": {
      "text/html": [
       "<div>\n",
       "<style scoped>\n",
       "    .dataframe tbody tr th:only-of-type {\n",
       "        vertical-align: middle;\n",
       "    }\n",
       "\n",
       "    .dataframe tbody tr th {\n",
       "        vertical-align: top;\n",
       "    }\n",
       "\n",
       "    .dataframe thead th {\n",
       "        text-align: right;\n",
       "    }\n",
       "</style>\n",
       "<table border=\"1\" class=\"dataframe\">\n",
       "  <thead>\n",
       "    <tr style=\"text-align: right;\">\n",
       "      <th></th>\n",
       "      <th>id</th>\n",
       "      <th>label</th>\n",
       "      <th>tweet</th>\n",
       "    </tr>\n",
       "  </thead>\n",
       "  <tbody>\n",
       "    <tr>\n",
       "      <th>0</th>\n",
       "      <td>1</td>\n",
       "      <td>0</td>\n",
       "      <td>@user when a father is dysfunctional and is s...</td>\n",
       "    </tr>\n",
       "    <tr>\n",
       "      <th>1</th>\n",
       "      <td>2</td>\n",
       "      <td>0</td>\n",
       "      <td>@user @user thanks for #lyft credit i can't us...</td>\n",
       "    </tr>\n",
       "    <tr>\n",
       "      <th>2</th>\n",
       "      <td>3</td>\n",
       "      <td>0</td>\n",
       "      <td>bihday your majesty</td>\n",
       "    </tr>\n",
       "    <tr>\n",
       "      <th>3</th>\n",
       "      <td>4</td>\n",
       "      <td>0</td>\n",
       "      <td>#model   i love u take with u all the time in ...</td>\n",
       "    </tr>\n",
       "    <tr>\n",
       "      <th>4</th>\n",
       "      <td>5</td>\n",
       "      <td>0</td>\n",
       "      <td>factsguide: society now    #motivation</td>\n",
       "    </tr>\n",
       "  </tbody>\n",
       "</table>\n",
       "</div>"
      ],
      "text/plain": [
       "   id  label                                              tweet\n",
       "0   1      0   @user when a father is dysfunctional and is s...\n",
       "1   2      0  @user @user thanks for #lyft credit i can't us...\n",
       "2   3      0                                bihday your majesty\n",
       "3   4      0  #model   i love u take with u all the time in ...\n",
       "4   5      0             factsguide: society now    #motivation"
      ]
     },
     "execution_count": 6,
     "metadata": {},
     "output_type": "execute_result"
    }
   ],
   "source": [
    "#Glimpse of data\n",
    "train.head()"
   ]
  },
  {
   "cell_type": "code",
   "execution_count": 7,
   "metadata": {},
   "outputs": [
    {
     "name": "stdout",
     "output_type": "stream",
     "text": [
      "0    @user when a father is dysfunctional and is so selfish he drags his kids into his dysfunction.   #run\n",
      "1   @user @user thanks for #lyft credit i can't use cause they don't offer wheelchair vans in pdx.    #disapointed #getthanked\n",
      "2     bihday your majesty\n",
      "3   #model   i love u take with u all the time in urð±!!! ðððð",
      "ð¦ð¦ð¦  \n",
      "4    factsguide: society now    #motivation\n"
     ]
    }
   ],
   "source": [
    "for i, tweet in enumerate(train['tweet'][:5]):\n",
    "    print(i, ' ', tweet)"
   ]
  },
  {
   "cell_type": "code",
   "execution_count": 8,
   "metadata": {},
   "outputs": [
    {
     "data": {
      "text/html": [
       "<div>\n",
       "<style scoped>\n",
       "    .dataframe tbody tr th:only-of-type {\n",
       "        vertical-align: middle;\n",
       "    }\n",
       "\n",
       "    .dataframe tbody tr th {\n",
       "        vertical-align: top;\n",
       "    }\n",
       "\n",
       "    .dataframe thead th {\n",
       "        text-align: right;\n",
       "    }\n",
       "</style>\n",
       "<table border=\"1\" class=\"dataframe\">\n",
       "  <thead>\n",
       "    <tr style=\"text-align: right;\">\n",
       "      <th></th>\n",
       "      <th>id</th>\n",
       "      <th>tweet</th>\n",
       "    </tr>\n",
       "  </thead>\n",
       "  <tbody>\n",
       "    <tr>\n",
       "      <th>0</th>\n",
       "      <td>31963</td>\n",
       "      <td>#studiolife #aislife #requires #passion #dedic...</td>\n",
       "    </tr>\n",
       "    <tr>\n",
       "      <th>1</th>\n",
       "      <td>31964</td>\n",
       "      <td>@user #white #supremacists want everyone to s...</td>\n",
       "    </tr>\n",
       "    <tr>\n",
       "      <th>2</th>\n",
       "      <td>31965</td>\n",
       "      <td>safe ways to heal your #acne!!    #altwaystohe...</td>\n",
       "    </tr>\n",
       "    <tr>\n",
       "      <th>3</th>\n",
       "      <td>31966</td>\n",
       "      <td>is the hp and the cursed child book up for res...</td>\n",
       "    </tr>\n",
       "    <tr>\n",
       "      <th>4</th>\n",
       "      <td>31967</td>\n",
       "      <td>3rd #bihday to my amazing, hilarious #nephew...</td>\n",
       "    </tr>\n",
       "  </tbody>\n",
       "</table>\n",
       "</div>"
      ],
      "text/plain": [
       "      id                                              tweet\n",
       "0  31963  #studiolife #aislife #requires #passion #dedic...\n",
       "1  31964   @user #white #supremacists want everyone to s...\n",
       "2  31965  safe ways to heal your #acne!!    #altwaystohe...\n",
       "3  31966  is the hp and the cursed child book up for res...\n",
       "4  31967    3rd #bihday to my amazing, hilarious #nephew..."
      ]
     },
     "execution_count": 8,
     "metadata": {},
     "output_type": "execute_result"
    }
   ],
   "source": [
    "test.head()"
   ]
  },
  {
   "cell_type": "code",
   "execution_count": 9,
   "metadata": {},
   "outputs": [
    {
     "data": {
      "image/png": "[encoded data removed]",
      "text/plain": [
       "<matplotlib.figure.Figure at 0xa84536668>"
      ]
     },
     "metadata": {},
     "output_type": "display_data"
    }
   ],
   "source": [
    "#check out the how many tweets are cursee or not cursed\n",
    "sns.countplot('label', data= train, palette= 'husl')\n",
    "plt.title('No. of tweets are cursed and not cursed')\n",
    "plt.show()"
   ]
  },
  {
   "cell_type": "code",
   "execution_count": 10,
   "metadata": {},
   "outputs": [
    {
     "data": {
      "text/plain": [
       "0    0.929854\n",
       "1    0.070146\n",
       "Name: label, dtype: float64"
      ]
     },
     "execution_count": 10,
     "metadata": {},
     "output_type": "execute_result"
    }
   ],
   "source": [
    "train['label'].value_counts(normalize= True)"
   ]
  },
  {
   "cell_type": "markdown",
   "metadata": {},
   "source": [
    "The dataset is highly imbalanced, there are large gap between the positive and negative results. As per the diagram we can say very small no. of people are used bad words in tweets."
   ]
  },
  {
   "cell_type": "markdown",
   "metadata": {},
   "source": [
    "### First Approach (Simple Approach)\n",
    "<b> Here, I'm not going to use vectorization of word, count vectorizer, etc.\n",
    "    I'm using\n",
    "    1. length of tweets (original)\n",
    "    2. no. of punctuation\n",
    "    3. no. of stopwords\n",
    "    4. no. of hash tags\n",
    "    5. no. of callouts\n",
    "    6. length of tweet (after removing the puctuation and stopwords)\n",
    "    7. average length of word in tweet\n",
    "    Thats all for the first approach.\n",
    "</b>"
   ]
  },
  {
   "cell_type": "code",
   "execution_count": 11,
   "metadata": {},
   "outputs": [],
   "source": [
    "#created new feature length of tweets\n",
    "train['len_tweet']= train['tweet'].apply(lambda x: len(x))\n",
    "test['len_tweet']= test['tweet'].apply(lambda x: len(x))"
   ]
  },
  {
   "cell_type": "code",
   "execution_count": 12,
   "metadata": {},
   "outputs": [
    {
     "data": {
      "image/png": "[encoded data removed]",
      "text/plain": [
       "<matplotlib.figure.Figure at 0xa8491cf98>"
      ]
     },
     "metadata": {},
     "output_type": "display_data"
    }
   ],
   "source": [
    "#plot the length of the tweets\n",
    "plt.figure(figsize= (12, 6))\n",
    "plt.plot(train['len_tweet'], lw= 1.5, label= 'train', alpha= 0.5)\n",
    "plt.plot(test['len_tweet'], lw= 1.5, label= 'test', alpha= 0.5)\n",
    "plt.ylabel('No. of tweets')\n",
    "plt.title('Length of tweets')\n",
    "plt.legend(loc= 4)\n",
    "plt.show()"
   ]
  },
  {
   "cell_type": "code",
   "execution_count": 13,
   "metadata": {},
   "outputs": [
    {
     "data": {
      "image/png": "[encoded data removed]",
      "text/plain": [
       "<matplotlib.figure.Figure at 0xa8491cd68>"
      ]
     },
     "metadata": {},
     "output_type": "display_data"
    }
   ],
   "source": [
    "plt.figure(figsize= (12, 6))\n",
    "sns.distplot(train['len_tweet'], bins= 50, kde= False)\n",
    "sns.distplot(test['len_tweet'], bins= 50, kde= False)\n",
    "plt.title('Distribution of tweet length')\n",
    "plt.show()"
   ]
  },
  {
   "cell_type": "code",
   "execution_count": 14,
   "metadata": {},
   "outputs": [
    {
     "name": "stdout",
     "output_type": "stream",
     "text": [
      "Train dataset: \n",
      "count    31962.000000\n",
      "mean        84.739628\n",
      "std         29.455749\n",
      "min         11.000000\n",
      "25%         63.000000\n",
      "50%         88.000000\n",
      "75%        108.000000\n",
      "max        274.000000\n",
      "Name: len_tweet, dtype: float64\n",
      "--------------------------------------------------\n",
      "Test dataset: \n",
      "count    17197.000000\n",
      "mean        84.546374\n",
      "std         29.606621\n",
      "min         11.000000\n",
      "25%         62.000000\n",
      "50%         88.000000\n",
      "75%        108.000000\n",
      "max        292.000000\n",
      "Name: len_tweet, dtype: float64\n"
     ]
    }
   ],
   "source": [
    "#checkout the description of tweet length of train and test dataset\n",
    "print('Train dataset: ')\n",
    "print(train['len_tweet'].describe())\n",
    "print('--------------------------------------------------')\n",
    "print('Test dataset: ')\n",
    "print(test['len_tweet'].describe())"
   ]
  },
  {
   "cell_type": "code",
   "execution_count": 15,
   "metadata": {},
   "outputs": [],
   "source": [
    "def len_word_tweet(tweets):\n",
    "    \n",
    "    avg_len_word= []\n",
    "    word_len= []\n",
    "    #the definition of the function that describe the length of average words in a tweets\n",
    "    for tweet in tweets:\n",
    "        tweet= tweet.lower().strip().split(' ')\n",
    "        #for w in tweet:\n",
    "            #word_len.append(len(w))\n",
    "        word_len= [len(w) for w in tweet]\n",
    "        avg_len_word.append(np.mean(word_len))\n",
    "        \n",
    "    return avg_len_word"
   ]
  },
  {
   "cell_type": "code",
   "execution_count": 16,
   "metadata": {},
   "outputs": [],
   "source": [
    "avg_len_word_train= len_word_tweet(train['tweet'])\n",
    "avg_len_word_test= len_word_tweet(test['tweet'])"
   ]
  },
  {
   "cell_type": "code",
   "execution_count": 17,
   "metadata": {},
   "outputs": [],
   "source": [
    "train['avg_len_word']= avg_len_word_train\n",
    "test['avg_len_word']= avg_len_word_test"
   ]
  },
  {
   "cell_type": "code",
   "execution_count": 18,
   "metadata": {},
   "outputs": [],
   "source": [
    "#consider hash (#) tags i.e. no. of hash tag used\n",
    "def consider_hash_tag(tweets): #pass the tweets\n",
    "    hash_element= [] #create list for the word with #tag\n",
    "    count_hash= [] #create list for the no. of hash tag used\n",
    "    for tweet in tweets:\n",
    "        tweet_word= tweet.strip().split(' ')   #remove whitespace and split\n",
    "        hash_word= [h for h in tweet_word if h.startswith('#')] #hash tag present in particular tweet\n",
    "        count= len(hash_word) #no. of hash tag present in particulat tweets\n",
    "        hash_element.append(hash_word)\n",
    "        count_hash.append(count)\n",
    "        \n",
    "    \n",
    "    return hash_element, count_hash  #return both the #tag word as well as no. of #tag"
   ]
  },
  {
   "cell_type": "code",
   "execution_count": 19,
   "metadata": {},
   "outputs": [],
   "source": [
    "hash_tag_train, count_tag_train= consider_hash_tag(train['tweet'])\n",
    "hash_tag_test, count_tag_test= consider_hash_tag(test['tweet'])"
   ]
  },
  {
   "cell_type": "code",
   "execution_count": 20,
   "metadata": {},
   "outputs": [],
   "source": [
    "#create another feature of no. of #tag used\n",
    "train['no_of_hash_tag']= count_tag_train\n",
    "test['no_of_hash_tag']= count_tag_test"
   ]
  },
  {
   "cell_type": "code",
   "execution_count": 21,
   "metadata": {},
   "outputs": [
    {
     "data": {
      "image/png": "[encoded data removed]",
      "text/plain": [
       "<matplotlib.figure.Figure at 0xa87f11c18>"
      ]
     },
     "metadata": {},
     "output_type": "display_data"
    }
   ],
   "source": [
    "#check the hash and a length of tweet using the box plot\n",
    "plt.figure(figsize= (12, 12))\n",
    "plt.subplot(211)\n",
    "sns.boxplot('no_of_hash_tag', 'len_tweet', data= train)\n",
    "plt.title('Original Tweet length vs No. of hash tag')\n",
    "\n",
    "plt.subplot(212)\n",
    "sns.boxplot('no_of_hash_tag', 'len_tweet', data= train, hue= 'label')\n",
    "\n",
    "plt.show()"
   ]
  },
  {
   "cell_type": "code",
   "execution_count": 22,
   "metadata": {},
   "outputs": [],
   "source": [
    "#checkout the #of callouts used in particular tweets\n",
    "def no_of_callout(tweets):\n",
    "    no_of_callouts= []\n",
    "    \n",
    "    for tweet in tweets:\n",
    "        tweet= tweet.lower().strip().split(' ')\n",
    "        callouts= [w for w in tweet if w.startswith('@')] #consider the word those startswith the @\n",
    "        no_of_callouts.append(len(callouts))\n",
    "        \n",
    "    return no_of_callouts"
   ]
  },
  {
   "cell_type": "code",
   "execution_count": 23,
   "metadata": {},
   "outputs": [],
   "source": [
    "no_callouts_train= no_of_callout(train['tweet'])\n",
    "no_callouts_test= no_of_callout(test['tweet'])"
   ]
  },
  {
   "cell_type": "code",
   "execution_count": 24,
   "metadata": {},
   "outputs": [],
   "source": [
    "train['no_of_callouts']= no_callouts_train\n",
    "test['no_of_callouts']= no_callouts_test"
   ]
  },
  {
   "cell_type": "code",
   "execution_count": 25,
   "metadata": {},
   "outputs": [],
   "source": [
    "def no_of_punctuation(tweets):\n",
    "    len_punc= []\n",
    "    \n",
    "    for tweet in tweets:\n",
    "        tweet= tweet.lower().strip().split(' ')\n",
    "        \n",
    "        punc= [w for w in tweet if w in punctuation]\n",
    "        len_punc.append(len(punc))\n",
    "        \n",
    "    return len_punc"
   ]
  },
  {
   "cell_type": "code",
   "execution_count": 26,
   "metadata": {},
   "outputs": [],
   "source": [
    "len_punc_train= no_of_punctuation(train['tweet'])\n",
    "len_punc_test= no_of_punctuation(test['tweet'])"
   ]
  },
  {
   "cell_type": "code",
   "execution_count": 27,
   "metadata": {},
   "outputs": [],
   "source": [
    "train['punctuation']= len_punc_train\n",
    "test['punctuation']= len_punc_test"
   ]
  },
  {
   "cell_type": "code",
   "execution_count": 28,
   "metadata": {},
   "outputs": [],
   "source": [
    "def no_of_stopwords(tweets):\n",
    "    len_sw= []\n",
    "    \n",
    "    for tweet in tweets:\n",
    "        tweet= tweet.lower().strip().split(' ')\n",
    "        \n",
    "        sw= [w for w in tweet if w in ENGLISH_STOP_WORDS]\n",
    "        len_sw.append(len(sw))\n",
    "        \n",
    "    return len_sw"
   ]
  },
  {
   "cell_type": "code",
   "execution_count": 29,
   "metadata": {},
   "outputs": [],
   "source": [
    "len_sw_train= no_of_stopwords(train['tweet'])\n",
    "len_sw_test= no_of_stopwords(test['tweet'])"
   ]
  },
  {
   "cell_type": "code",
   "execution_count": 30,
   "metadata": {},
   "outputs": [],
   "source": [
    "train['stopwords']= len_sw_train\n",
    "test['stopwords']= len_sw_test"
   ]
  },
  {
   "cell_type": "markdown",
   "metadata": {},
   "source": [
    "#### Drop the tweet and id features from train and test data"
   ]
  },
  {
   "cell_type": "code",
   "execution_count": 31,
   "metadata": {},
   "outputs": [],
   "source": [
    "train_1= train.drop(['id', 'tweet'], axis= 1)\n",
    "test_1= test.drop(['id', 'tweet'], axis= 1)"
   ]
  },
  {
   "cell_type": "markdown",
   "metadata": {},
   "source": [
    "#### Checkout the correlation between the features"
   ]
  },
  {
   "cell_type": "code",
   "execution_count": 32,
   "metadata": {},
   "outputs": [
    {
     "data": {
      "image/png": "[encoded data removed]",
      "text/plain": [
       "<matplotlib.figure.Figure at 0xa87f114a8>"
      ]
     },
     "metadata": {},
     "output_type": "display_data"
    }
   ],
   "source": [
    "corr= train_1.corr()\n",
    "plt.figure(figsize= (7, 7))\n",
    "sns.heatmap(corr, annot= True, fmt= '.2f', square= True)\n",
    "plt.show()"
   ]
  },
  {
   "cell_type": "markdown",
   "metadata": {},
   "source": [
    "#### Now time to do Machine Learning Modeling"
   ]
  },
  {
   "cell_type": "code",
   "execution_count": 33,
   "metadata": {},
   "outputs": [],
   "source": [
    "#split the data in train and validation data using the train_test_split\n",
    "X_train, X_test, y_train, y_test= train_test_split(train_1.drop(['label'], axis= 1), train_1['label'], random_state= 101)"
   ]
  },
  {
   "cell_type": "markdown",
   "metadata": {},
   "source": [
    "#### Models"
   ]
  },
  {
   "cell_type": "code",
   "execution_count": 34,
   "metadata": {},
   "outputs": [],
   "source": [
    "clf_log= LogisticRegression(class_weight= 'balanced', random_state= 101) #given class weight because of imbalanced data\n",
    "#clf_svm= SVC(kernel= 'linear', random_state= 101)\n",
    "clf_knn= KNeighborsClassifier()\n",
    "clf_gnb= GaussianNB()\n",
    "clf_bnb= BernoulliNB()\n",
    "clf_rf= RandomForestClassifier(random_state= 101)\n",
    "clf_gbc= GradientBoostingClassifier(random_state= 101)\n",
    "clf_lda= LinearDiscriminantAnalysis()"
   ]
  },
  {
   "cell_type": "code",
   "execution_count": 35,
   "metadata": {},
   "outputs": [],
   "source": [
    "clfs= [clf_log, clf_knn, clf_gnb, clf_bnb, clf_rf, clf_gbc, clf_lda]\n",
    "names= ['LogisticRegression', 'KNeighborsClassifier', 'GaussianNB', 'BernoulliNB',\n",
    "        'RandomForestClassifier', 'GradientBoostingClassifier', 'LinearDiscriminantAnalysis']"
   ]
  },
  {
   "cell_type": "code",
   "execution_count": 36,
   "metadata": {},
   "outputs": [
    {
     "name": "stderr",
     "output_type": "stream",
     "text": [
      "C:\\Users\\sngupta\\Anaconda3\\lib\\site-packages\\sklearn\\metrics\\classification.py:1135: UndefinedMetricWarning: F-score is ill-defined and being set to 0.0 due to no predicted samples.\n",
      "  'precision', 'predicted', average, warn_for)\n"
     ]
    },
    {
     "data": {
      "text/html": [
       "<div>\n",
       "<style scoped>\n",
       "    .dataframe tbody tr th:only-of-type {\n",
       "        vertical-align: middle;\n",
       "    }\n",
       "\n",
       "    .dataframe tbody tr th {\n",
       "        vertical-align: top;\n",
       "    }\n",
       "\n",
       "    .dataframe thead th {\n",
       "        text-align: right;\n",
       "    }\n",
       "</style>\n",
       "<table border=\"1\" class=\"dataframe\">\n",
       "  <thead>\n",
       "    <tr style=\"text-align: right;\">\n",
       "      <th></th>\n",
       "      <th>Model</th>\n",
       "      <th>Accuracy_train</th>\n",
       "      <th>Accuracy_test</th>\n",
       "      <th>f1_Score</th>\n",
       "    </tr>\n",
       "  </thead>\n",
       "  <tbody>\n",
       "    <tr>\n",
       "      <th>0</th>\n",
       "      <td>LogisticRegression</td>\n",
       "      <td>0.637395</td>\n",
       "      <td>0.631085</td>\n",
       "      <td>0.170045</td>\n",
       "    </tr>\n",
       "    <tr>\n",
       "      <th>1</th>\n",
       "      <td>KNeighborsClassifier</td>\n",
       "      <td>0.939761</td>\n",
       "      <td>0.928419</td>\n",
       "      <td>0.163743</td>\n",
       "    </tr>\n",
       "    <tr>\n",
       "      <th>2</th>\n",
       "      <td>GaussianNB</td>\n",
       "      <td>0.917192</td>\n",
       "      <td>0.920160</td>\n",
       "      <td>0.044910</td>\n",
       "    </tr>\n",
       "    <tr>\n",
       "      <th>3</th>\n",
       "      <td>BernoulliNB</td>\n",
       "      <td>0.928914</td>\n",
       "      <td>0.932674</td>\n",
       "      <td>0.000000</td>\n",
       "    </tr>\n",
       "    <tr>\n",
       "      <th>4</th>\n",
       "      <td>RandomForestClassifier</td>\n",
       "      <td>0.989154</td>\n",
       "      <td>0.931673</td>\n",
       "      <td>0.287206</td>\n",
       "    </tr>\n",
       "    <tr>\n",
       "      <th>5</th>\n",
       "      <td>GradientBoostingClassifier</td>\n",
       "      <td>0.934880</td>\n",
       "      <td>0.935552</td>\n",
       "      <td>0.154351</td>\n",
       "    </tr>\n",
       "    <tr>\n",
       "      <th>6</th>\n",
       "      <td>LinearDiscriminantAnalysis</td>\n",
       "      <td>0.928831</td>\n",
       "      <td>0.932424</td>\n",
       "      <td>0.000000</td>\n",
       "    </tr>\n",
       "  </tbody>\n",
       "</table>\n",
       "</div>"
      ],
      "text/plain": [
       "                        Model  Accuracy_train  Accuracy_test  f1_Score\n",
       "0          LogisticRegression        0.637395       0.631085  0.170045\n",
       "1        KNeighborsClassifier        0.939761       0.928419  0.163743\n",
       "2                  GaussianNB        0.917192       0.920160  0.044910\n",
       "3                 BernoulliNB        0.928914       0.932674  0.000000\n",
       "4      RandomForestClassifier        0.989154       0.931673  0.287206\n",
       "5  GradientBoostingClassifier        0.934880       0.935552  0.154351\n",
       "6  LinearDiscriminantAnalysis        0.928831       0.932424  0.000000"
      ]
     },
     "execution_count": 36,
     "metadata": {},
     "output_type": "execute_result"
    }
   ],
   "source": [
    "result_df= pd.DataFrame()\n",
    "\n",
    "acc_train= []\n",
    "acc_test= []\n",
    "f1_score_= []\n",
    "for clf in clfs:\n",
    "    clf.fit(X_train, y_train)\n",
    "    \n",
    "    prediction= clf.predict(X_test)\n",
    "    \n",
    "    #find the accuracies\n",
    "    acc_train.append(clf.score(X_train, y_train))\n",
    "    acc_test.append(accuracy_score(y_test, prediction))\n",
    "    f1_score_.append(f1_score(y_test, prediction))\n",
    "    \n",
    "result_df['Model']= names\n",
    "result_df['Accuracy_train']= acc_train\n",
    "result_df['Accuracy_test']= acc_test\n",
    "result_df['f1_Score']= f1_score_\n",
    "\n",
    "result_df"
   ]
  },
  {
   "cell_type": "code",
   "execution_count": 37,
   "metadata": {},
   "outputs": [
    {
     "name": "stdout",
     "output_type": "stream",
     "text": [
      "Accuracy Score (train): 0.9886112385799508\n",
      "Accuracy Score (test): 0.932924540107621\n",
      "f1 Score: 0.3002610966057441\n",
      "Weighted f1 score: 0.9200351034957926\n",
      "Classification_report: \n",
      "             precision    recall  f1-score   support\n",
      "\n",
      "          0       0.95      0.98      0.96      7453\n",
      "          1       0.50      0.21      0.30       538\n",
      "\n",
      "avg / total       0.92      0.93      0.92      7991\n",
      "\n"
     ]
    },
    {
     "data": {
      "image/png": "[encoded data removed]",
      "text/plain": [
       "<matplotlib.figure.Figure at 0xa89859ba8>"
      ]
     },
     "metadata": {},
     "output_type": "display_data"
    }
   ],
   "source": [
    "#Here, the randomforestclassifier works well\n",
    "#lets tune the parameters\n",
    "\n",
    "clf_rf_1= RandomForestClassifier(criterion= 'entropy', class_weight= 'balanced', random_state= 101)\n",
    "clf_rf_1.fit(X_train, y_train)\n",
    "pred_y= clf_rf_1.predict(X_test)\n",
    "\n",
    "prediction= clf_rf_1.predict(test_1)\n",
    "\n",
    "print('Accuracy Score (train): {}' .format(clf_rf_1.score(X_train, y_train)))\n",
    "print('Accuracy Score (test): {}' .format(accuracy_score(y_test, pred_y)))\n",
    "print('f1 Score: {}' .format(f1_score(y_test, pred_y)))\n",
    "print('Weighted f1 score: {}' .format(f1_score(y_test, pred_y, average= 'weighted')))\n",
    "print('Classification_report: ')\n",
    "print(classification_report(y_test, pred_y))\n",
    "#draw confusion matrix\n",
    "plot_confusion_matrix(confusion_matrix(y_test, pred_y))\n",
    "plt.show()"
   ]
  },
  {
   "cell_type": "code",
   "execution_count": 38,
   "metadata": {},
   "outputs": [],
   "source": [
    "#let check it by submitting what is actual score\n",
    "samp_1= pd.DataFrame({\n",
    "    'id': test['id'],\n",
    "    'label': prediction\n",
    "})"
   ]
  },
  {
   "cell_type": "code",
   "execution_count": 39,
   "metadata": {},
   "outputs": [],
   "source": [
    "samp_1.to_csv('sample_1.csv', index= False)"
   ]
  },
  {
   "cell_type": "markdown",
   "metadata": {},
   "source": [
    "### After submitting to the [site](https://datahack.analyticsvidhya.com/contest/practice-problem-twitter-sentiment-analysis/), I got 30.45% as of f1_score metric."
   ]
  },
  {
   "cell_type": "markdown",
   "metadata": {},
   "source": [
    "### The result I got from that simple approach."
   ]
  },
  {
   "cell_type": "markdown",
   "metadata": {},
   "source": [
    "## Second Approach"
   ]
  },
  {
   "cell_type": "markdown",
   "metadata": {},
   "source": [
    "### Lets try with the Vectorizer process i.e. Count Vectorizer, tfidf Vectorizer"
   ]
  },
  {
   "cell_type": "code",
   "execution_count": 40,
   "metadata": {},
   "outputs": [],
   "source": [
    "#first of all I conatenate both the train and test dataset\n",
    "df_train= pd.read_csv('train.csv')\n",
    "df_test= pd.read_csv('test.csv')\n",
    "#df_all= pd.concat([df_train, df_test])"
   ]
  },
  {
   "cell_type": "code",
   "execution_count": 41,
   "metadata": {},
   "outputs": [
    {
     "data": {
      "text/plain": [
       "((31962, 3), (17197, 2))"
      ]
     },
     "execution_count": 41,
     "metadata": {},
     "output_type": "execute_result"
    }
   ],
   "source": [
    "df_train.shape, df_test.shape"
   ]
  },
  {
   "cell_type": "code",
   "execution_count": 42,
   "metadata": {},
   "outputs": [],
   "source": [
    "def ml_modeling(model, train, test, count_vectorizer= True, tfidf_vectorizer= True):\n",
    "    X_train, X_test, y_train, y_test= train_test_split(train['tweet'], train['label'], random_state= 0)\n",
    "    \n",
    "    if count_vectorizer:\n",
    "        print('Using Count Vectorizer')\n",
    "        vect_count= CountVectorizer().fit(X_train)\n",
    "        X_train_vect= vect_count.transform(X_train)\n",
    "        \n",
    "        model.fit(X_train_vect, y_train)\n",
    "        \n",
    "        predictions= model.predict(vect_count.transform(X_test))\n",
    "        #pred_ori= model.predict(vect_count.transform(test['tweet']))\n",
    "        #print accuracies\n",
    "        print('Training Accuracy: {:.3f}' .format(model.score(X_train_vect, y_train)))\n",
    "        print('Validation Accuracy: {:.3f}' .format(accuracy_score(y_test, predictions)))\n",
    "        print('f1-Score: {:.4f}' .format(f1_score(y_test, predictions)))\n",
    "        \n",
    "        #get the feature with smallest coefs and largest coefs\n",
    "        try:\n",
    "            features_names= np.array(vect_count.get_feature_names())\n",
    "            sorted_coef_index= model.coef_[0].argsort()\n",
    "            print('---------------------------------------------------------------------------------------')\n",
    "            print('Smallest Coefs: {}' .format(features_names[sorted_coef_index[:10]]))\n",
    "            print('Largest Coefs: {}' .format(features_names[sorted_coef_index][:-11:-1]))\n",
    "\n",
    "        except:\n",
    "            pass\n",
    "\n",
    "        print('--------------------------------------------------------------------------------------')\n",
    "        print('Classfication Report: ')\n",
    "        print(classification_report(y_test, predictions))\n",
    "            \n",
    "       \n",
    "    print('-----------------------------------------------------------------------------------------')\n",
    "    \n",
    "    if tfidf_vectorizer:\n",
    "        print('Using tfidf Vectorizer')\n",
    "        vect_tfidf= TfidfVectorizer(min_df= 5).fit(X_train)\n",
    "        X_train_tfidf= vect_tfidf.transform(X_train)\n",
    "        \n",
    "        model.fit(X_train_tfidf, y_train)\n",
    "        \n",
    "        predictions= model.predict(vect_tfidf.transform(X_test))\n",
    "        #pred_ori= model.predict(vect_tfidf.transform(test['tweet']))\n",
    "        #print accuracies\n",
    "        print('Training Accuracy: {:.3f}' .format(model.score(X_train_tfidf, y_train)))\n",
    "        print('Validation Accuracy: {:.3f}' .format(accuracy_score(y_test, predictions)))\n",
    "        print('f1-Score: {:.4f}' .format(f1_score(y_test, predictions)))\n",
    "        \n",
    "        #get the feature with smallest coefs and largest coefs\n",
    "        try:\n",
    "            features_names= np.array(vect_tfidf.get_feature_names())\n",
    "            sorted_coef_index= model.coef_[0].argsort()\n",
    "            print('---------------------------------------------------------------------------------------')\n",
    "            print('Smallest Coefs: {}' .format(features_names[sorted_coef_index[:10]]))\n",
    "            print('Largest Coefs: {}' .format(features_names[sorted_coef_index][:-11:-1]))\n",
    "            \n",
    "        except:\n",
    "            pass\n",
    "\n",
    "        print('--------------------------------------------------------------------------------------')\n",
    "        print('Classfication Report: ')\n",
    "        print(classification_report(y_test, predictions))"
   ]
  },
  {
   "cell_type": "code",
   "execution_count": 43,
   "metadata": {},
   "outputs": [],
   "source": [
    "clf_log= LogisticRegression(class_weight= 'balanced')"
   ]
  },
  {
   "cell_type": "code",
   "execution_count": 44,
   "metadata": {},
   "outputs": [
    {
     "name": "stdout",
     "output_type": "stream",
     "text": [
      "Using Count Vectorizer\n",
      "Training Accuracy: 0.989\n",
      "Validation Accuracy: 0.952\n",
      "f1-Score: 0.6701\n",
      "---------------------------------------------------------------------------------------\n",
      "Smallest Coefs: ['bihday' 'day' 'orlando' 'healthy' 'hardcore' 'smile' 'friday'\n",
      " 'happiness' 'weekend' 'tomorrow']\n",
      "Largest Coefs: ['allahsoil' 'bigot' 'racism' 'white' 'inauguration' 'racist' 'equality'\n",
      " '2017' 'blacklivesmatter' 'latest']\n",
      "--------------------------------------------------------------------------------------\n",
      "Classfication Report: \n",
      "             precision    recall  f1-score   support\n",
      "\n",
      "          0       0.98      0.97      0.97      7460\n",
      "          1       0.62      0.73      0.67       531\n",
      "\n",
      "avg / total       0.96      0.95      0.95      7991\n",
      "\n",
      "-----------------------------------------------------------------------------------------\n",
      "Using tfidf Vectorizer\n",
      "Training Accuracy: 0.941\n",
      "Validation Accuracy: 0.919\n",
      "f1-Score: 0.5780\n",
      "---------------------------------------------------------------------------------------\n",
      "Smallest Coefs: ['day' 'bihday' 'life' 'orlando' 'happy' 'today' 'love' 'healthy' 'smile'\n",
      " 'weekend']\n",
      "Largest Coefs: ['allahsoil' 'white' 'racist' 'racism' 'trump' 'black' 'against' 'women'\n",
      " '2017' 'bigot']\n",
      "--------------------------------------------------------------------------------------\n",
      "Classfication Report: \n",
      "             precision    recall  f1-score   support\n",
      "\n",
      "          0       0.99      0.93      0.96      7460\n",
      "          1       0.44      0.83      0.58       531\n",
      "\n",
      "avg / total       0.95      0.92      0.93      7991\n",
      "\n"
     ]
    }
   ],
   "source": [
    "ml_modeling(clf_log, df_train, df_test)"
   ]
  },
  {
   "cell_type": "code",
   "execution_count": 45,
   "metadata": {},
   "outputs": [
    {
     "name": "stdout",
     "output_type": "stream",
     "text": [
      "Using Count Vectorizer\n",
      "Training Accuracy: 0.994\n",
      "Validation Accuracy: 0.957\n",
      "f1-Score: 0.5556\n",
      "--------------------------------------------------------------------------------------\n",
      "Classfication Report: \n",
      "             precision    recall  f1-score   support\n",
      "\n",
      "          0       0.96      1.00      0.98      7460\n",
      "          1       0.88      0.40      0.56       531\n",
      "\n",
      "avg / total       0.95      0.96      0.95      7991\n",
      "\n",
      "-----------------------------------------------------------------------------------------\n",
      "Using tfidf Vectorizer\n",
      "Training Accuracy: 0.994\n",
      "Validation Accuracy: 0.957\n",
      "f1-Score: 0.5781\n",
      "--------------------------------------------------------------------------------------\n",
      "Classfication Report: \n",
      "             precision    recall  f1-score   support\n",
      "\n",
      "          0       0.96      0.99      0.98      7460\n",
      "          1       0.83      0.44      0.58       531\n",
      "\n",
      "avg / total       0.95      0.96      0.95      7991\n",
      "\n"
     ]
    }
   ],
   "source": [
    "ml_modeling(clf_rf, df_train, df_test)"
   ]
  },
  {
   "cell_type": "code",
   "execution_count": 46,
   "metadata": {},
   "outputs": [
    {
     "name": "stdout",
     "output_type": "stream",
     "text": [
      "Using Count Vectorizer\n",
      "Training Accuracy: 0.952\n",
      "Validation Accuracy: 0.945\n",
      "f1-Score: 0.3030\n",
      "---------------------------------------------------------------------------------------\n",
      "Smallest Coefs: ['00' 'ombre' 'omarmateen' 'omar' 'omalleyclan' 'omahpohon' 'omaha' 'om'\n",
      " 'olympicstadium' 'olympics']\n",
      "Largest Coefs: ['user' 'the' 'to' 'of' 'you' 'is' 'in' 'and' 'amp' 'are']\n",
      "--------------------------------------------------------------------------------------\n",
      "Classfication Report: \n",
      "             precision    recall  f1-score   support\n",
      "\n",
      "          0       0.94      1.00      0.97      7460\n",
      "          1       0.99      0.18      0.30       531\n",
      "\n",
      "avg / total       0.95      0.95      0.93      7991\n",
      "\n",
      "-----------------------------------------------------------------------------------------\n",
      "Using tfidf Vectorizer\n",
      "Training Accuracy: 0.953\n",
      "Validation Accuracy: 0.945\n",
      "f1-Score: 0.6051\n",
      "---------------------------------------------------------------------------------------\n",
      "Smallest Coefs: ['00' 'menu' 'mercedes' 'mess' 'messages' 'messy' 'metal' 'meâ' 'með'\n",
      " 'michael']\n",
      "Largest Coefs: ['user' 'the' 'to' 'of' 'you' 'is' 'in' 'and' 'amp' 'are']\n",
      "--------------------------------------------------------------------------------------\n",
      "Classfication Report: \n",
      "             precision    recall  f1-score   support\n",
      "\n",
      "          0       0.97      0.97      0.97      7460\n",
      "          1       0.58      0.63      0.61       531\n",
      "\n",
      "avg / total       0.95      0.95      0.95      7991\n",
      "\n"
     ]
    }
   ],
   "source": [
    "ml_modeling(clf_bnb, df_train, df_test)"
   ]
  },
  {
   "cell_type": "code",
   "execution_count": 47,
   "metadata": {},
   "outputs": [
    {
     "name": "stdout",
     "output_type": "stream",
     "text": [
      "Using Count Vectorizer\n",
      "Training Accuracy: 0.993\n",
      "Validation Accuracy: 0.956\n",
      "f1-Score: 0.5217\n",
      "--------------------------------------------------------------------------------------\n",
      "Classfication Report: \n",
      "             precision    recall  f1-score   support\n",
      "\n",
      "          0       0.96      1.00      0.98      7460\n",
      "          1       0.94      0.36      0.52       531\n",
      "\n",
      "avg / total       0.96      0.96      0.95      7991\n",
      "\n",
      "-----------------------------------------------------------------------------------------\n",
      "Using tfidf Vectorizer\n",
      "Training Accuracy: 0.993\n",
      "Validation Accuracy: 0.955\n",
      "f1-Score: 0.5034\n",
      "--------------------------------------------------------------------------------------\n",
      "Classfication Report: \n",
      "             precision    recall  f1-score   support\n",
      "\n",
      "          0       0.96      1.00      0.98      7460\n",
      "          1       0.92      0.35      0.50       531\n",
      "\n",
      "avg / total       0.95      0.95      0.94      7991\n",
      "\n"
     ]
    }
   ],
   "source": [
    "ml_modeling(clf_rf_1, df_train, df_test)"
   ]
  },
  {
   "cell_type": "code",
   "execution_count": 48,
   "metadata": {},
   "outputs": [],
   "source": [
    "from sklearn.tree import DecisionTreeClassifier"
   ]
  },
  {
   "cell_type": "code",
   "execution_count": 49,
   "metadata": {},
   "outputs": [],
   "source": [
    "clf_dtc= DecisionTreeClassifier(random_state= 0)"
   ]
  },
  {
   "cell_type": "code",
   "execution_count": 50,
   "metadata": {},
   "outputs": [
    {
     "name": "stdout",
     "output_type": "stream",
     "text": [
      "Using Count Vectorizer\n",
      "Training Accuracy: 1.000\n",
      "Validation Accuracy: 0.950\n",
      "f1-Score: 0.5980\n",
      "--------------------------------------------------------------------------------------\n",
      "Classfication Report: \n",
      "             precision    recall  f1-score   support\n",
      "\n",
      "          0       0.97      0.98      0.97      7460\n",
      "          1       0.64      0.56      0.60       531\n",
      "\n",
      "avg / total       0.95      0.95      0.95      7991\n",
      "\n",
      "-----------------------------------------------------------------------------------------\n",
      "Using tfidf Vectorizer\n",
      "Training Accuracy: 1.000\n",
      "Validation Accuracy: 0.942\n",
      "f1-Score: 0.5615\n",
      "--------------------------------------------------------------------------------------\n",
      "Classfication Report: \n",
      "             precision    recall  f1-score   support\n",
      "\n",
      "          0       0.97      0.97      0.97      7460\n",
      "          1       0.56      0.56      0.56       531\n",
      "\n",
      "avg / total       0.94      0.94      0.94      7991\n",
      "\n"
     ]
    }
   ],
   "source": [
    "ml_modeling(clf_dtc, df_train, df_test)"
   ]
  },
  {
   "cell_type": "code",
   "execution_count": 51,
   "metadata": {},
   "outputs": [],
   "source": [
    "X_train, X_test, y_train, y_test= train_test_split(df_train['tweet'], df_train['label'], random_state= 0)"
   ]
  },
  {
   "cell_type": "code",
   "execution_count": 52,
   "metadata": {},
   "outputs": [
    {
     "name": "stdout",
     "output_type": "stream",
     "text": [
      "Training Accuracy: 0.989\n",
      "Validation Accuracy: 0.952\n",
      "f1-Score: 0.6701\n"
     ]
    }
   ],
   "source": [
    "vect_count= CountVectorizer().fit(X_train)\n",
    "X_train_vect= vect_count.transform(X_train)\n",
    "\n",
    "clf_log.fit(X_train_vect, y_train)\n",
    "\n",
    "predictions= clf_log.predict(vect_count.transform(X_test))\n",
    "pred_ori= clf_log.predict(vect_count.transform(test['tweet']))\n",
    "#print accuracies\n",
    "print('Training Accuracy: {:.3f}' .format(clf_log.score(X_train_vect, y_train)))\n",
    "print('Validation Accuracy: {:.3f}' .format(accuracy_score(y_test, predictions)))\n",
    "print('f1-Score: {:.4f}' .format(f1_score(y_test, predictions)))"
   ]
  },
  {
   "cell_type": "code",
   "execution_count": 53,
   "metadata": {},
   "outputs": [],
   "source": [
    "samp_2= pd.DataFrame({\n",
    "    'id': df_test['id'],\n",
    "    'label': pred_ori\n",
    "})"
   ]
  },
  {
   "cell_type": "code",
   "execution_count": 54,
   "metadata": {},
   "outputs": [],
   "source": [
    "samp_2.to_csv('sample_2.csv', index= False)"
   ]
  },
  {
   "cell_type": "markdown",
   "metadata": {},
   "source": [
    "## Third Approach"
   ]
  },
  {
   "cell_type": "code",
   "execution_count": 55,
   "metadata": {},
   "outputs": [],
   "source": [
    "df_all= pd.concat([df_train, df_test])"
   ]
  },
  {
   "cell_type": "code",
   "execution_count": 56,
   "metadata": {},
   "outputs": [],
   "source": [
    "#here, only I have tweets and now preprocess it\n",
    "#defined function to remove all the patterns from the tweets\n",
    "def remove_pattern(tweet, pattern):\n",
    "    r= re.findall(pattern, tweet)\n",
    "    for i in r:\n",
    "        tweet= re.sub(i, '', tweet)\n",
    "        \n",
    "    return tweet"
   ]
  },
  {
   "cell_type": "code",
   "execution_count": 57,
   "metadata": {},
   "outputs": [],
   "source": [
    "#removing callout @\n",
    "df_all['clean_tweet']= np.vectorize(remove_pattern)(df_all['tweet'], '@[\\w]*')"
   ]
  },
  {
   "cell_type": "code",
   "execution_count": 58,
   "metadata": {},
   "outputs": [],
   "source": [
    "#removing punctuation, constants, special_characters\n",
    "df_all['clean_tweet']= df_all['clean_tweet'].str.replace('[^a-zA-Z#]', ' ')"
   ]
  },
  {
   "cell_type": "code",
   "execution_count": 59,
   "metadata": {},
   "outputs": [],
   "source": [
    "#remove short words\n",
    "df_all['clean_tweet']= df_all['clean_tweet'].apply(lambda x: ' '.join([w for w in x.split() if len(w)>3]))"
   ]
  },
  {
   "cell_type": "code",
   "execution_count": 60,
   "metadata": {},
   "outputs": [],
   "source": [
    "df_all.reset_index(inplace= True)\n",
    "df_all.drop(['index'], axis= 1, inplace= True)"
   ]
  },
  {
   "cell_type": "code",
   "execution_count": 61,
   "metadata": {},
   "outputs": [
    {
     "data": {
      "text/plain": [
       "'when father dysfunctional selfish drags kids into dysfunction #run'"
      ]
     },
     "execution_count": 61,
     "metadata": {},
     "output_type": "execute_result"
    }
   ],
   "source": [
    "df_all['clean_tweet'][0]"
   ]
  },
  {
   "cell_type": "code",
   "execution_count": 62,
   "metadata": {},
   "outputs": [],
   "source": [
    "#do tokenization\n",
    "df_all['clean_tweet']= df_all['clean_tweet'].apply(lambda x: x.split())"
   ]
  },
  {
   "cell_type": "code",
   "execution_count": 63,
   "metadata": {},
   "outputs": [
    {
     "data": {
      "text/plain": [
       "['when',\n",
       " 'father',\n",
       " 'dysfunctional',\n",
       " 'selfish',\n",
       " 'drags',\n",
       " 'kids',\n",
       " 'into',\n",
       " 'dysfunction',\n",
       " '#run']"
      ]
     },
     "execution_count": 63,
     "metadata": {},
     "output_type": "execute_result"
    }
   ],
   "source": [
    "df_all['clean_tweet'][0]"
   ]
  },
  {
   "cell_type": "code",
   "execution_count": 64,
   "metadata": {},
   "outputs": [],
   "source": [
    "from nltk.stem.porter import *"
   ]
  },
  {
   "cell_type": "code",
   "execution_count": 65,
   "metadata": {},
   "outputs": [],
   "source": [
    "stemmer= PorterStemmer()"
   ]
  },
  {
   "cell_type": "code",
   "execution_count": 66,
   "metadata": {},
   "outputs": [],
   "source": [
    "df_all['clean_tweet']= df_all['clean_tweet'].apply(lambda x: [stemmer.stem(i) for i in x])"
   ]
  },
  {
   "cell_type": "code",
   "execution_count": 67,
   "metadata": {},
   "outputs": [
    {
     "data": {
      "text/plain": [
       "['when',\n",
       " 'father',\n",
       " 'dysfunct',\n",
       " 'selfish',\n",
       " 'drag',\n",
       " 'kid',\n",
       " 'into',\n",
       " 'dysfunct',\n",
       " '#run']"
      ]
     },
     "execution_count": 67,
     "metadata": {},
     "output_type": "execute_result"
    }
   ],
   "source": [
    "df_all['clean_tweet'][0]"
   ]
  },
  {
   "cell_type": "code",
   "execution_count": 68,
   "metadata": {},
   "outputs": [],
   "source": [
    "df_all_1= df_all.copy()"
   ]
  },
  {
   "cell_type": "code",
   "execution_count": 69,
   "metadata": {},
   "outputs": [],
   "source": [
    "df_all_1.drop(['id', 'tweet'], axis= 1, inplace= True)"
   ]
  },
  {
   "cell_type": "code",
   "execution_count": 70,
   "metadata": {},
   "outputs": [],
   "source": [
    "train_clean= df_all_1[:len(df_train)]\n",
    "test_clean= df_all_1[len(df_train):]"
   ]
  },
  {
   "cell_type": "code",
   "execution_count": 71,
   "metadata": {},
   "outputs": [
    {
     "data": {
      "text/plain": [
       "((31962, 3), (17197, 2), (31962, 2), (17197, 2))"
      ]
     },
     "execution_count": 71,
     "metadata": {},
     "output_type": "execute_result"
    }
   ],
   "source": [
    "df_train.shape, df_test.shape, train_clean.shape, test_clean.shape"
   ]
  },
  {
   "cell_type": "code",
   "execution_count": 72,
   "metadata": {},
   "outputs": [
    {
     "name": "stderr",
     "output_type": "stream",
     "text": [
      "C:\\Users\\sngupta\\Anaconda3\\lib\\site-packages\\pandas\\core\\frame.py:3027: SettingWithCopyWarning: \n",
      "A value is trying to be set on a copy of a slice from a DataFrame\n",
      "\n",
      "See the caveats in the documentation: http://pandas.pydata.org/pandas-docs/stable/indexing.html#indexing-view-versus-copy\n",
      "  return super(DataFrame, self).rename(**kwargs)\n"
     ]
    }
   ],
   "source": [
    "train_clean.rename(columns= {'clean_tweet': 'tweet'}, inplace= True)\n",
    "test_clean.rename(columns= {'clean_tweet': 'tweet'}, inplace= True)"
   ]
  },
  {
   "cell_type": "code",
   "execution_count": 73,
   "metadata": {},
   "outputs": [
    {
     "name": "stderr",
     "output_type": "stream",
     "text": [
      "C:\\Users\\sngupta\\Anaconda3\\lib\\site-packages\\ipykernel_launcher.py:1: SettingWithCopyWarning: \n",
      "A value is trying to be set on a copy of a slice from a DataFrame.\n",
      "Try using .loc[row_indexer,col_indexer] = value instead\n",
      "\n",
      "See the caveats in the documentation: http://pandas.pydata.org/pandas-docs/stable/indexing.html#indexing-view-versus-copy\n",
      "  \"\"\"Entry point for launching an IPython kernel.\n"
     ]
    }
   ],
   "source": [
    "train_clean['tweet']= train_clean['tweet'].apply(lambda x: ' '.join([w for w in x]))"
   ]
  },
  {
   "cell_type": "code",
   "execution_count": 74,
   "metadata": {},
   "outputs": [
    {
     "name": "stderr",
     "output_type": "stream",
     "text": [
      "C:\\Users\\sngupta\\Anaconda3\\lib\\site-packages\\ipykernel_launcher.py:1: SettingWithCopyWarning: \n",
      "A value is trying to be set on a copy of a slice from a DataFrame.\n",
      "Try using .loc[row_indexer,col_indexer] = value instead\n",
      "\n",
      "See the caveats in the documentation: http://pandas.pydata.org/pandas-docs/stable/indexing.html#indexing-view-versus-copy\n",
      "  \"\"\"Entry point for launching an IPython kernel.\n"
     ]
    }
   ],
   "source": [
    "test_clean['tweet']= test_clean['tweet'].apply(lambda x: ' '.join([w for w in x]))"
   ]
  },
  {
   "cell_type": "code",
   "execution_count": 75,
   "metadata": {},
   "outputs": [
    {
     "name": "stdout",
     "output_type": "stream",
     "text": [
      "Using Count Vectorizer\n",
      "Training Accuracy: 0.982\n",
      "Validation Accuracy: 0.945\n",
      "f1-Score: 0.6399\n",
      "---------------------------------------------------------------------------------------\n",
      "Smallest Coefs: ['bihday' 'orlando' 'hardcor' 'tomorrow' 'healthi' 'fathersday' 'life'\n",
      " 'friday' 'weekend' 'excit']\n",
      "Largest Coefs: ['allahsoil' 'bigot' 'racism' 'blacklivesmatt' 'white' 'latest' 'racist'\n",
      " 'term' 'misogynist' 'fakenew']\n",
      "--------------------------------------------------------------------------------------\n",
      "Classfication Report: \n",
      "             precision    recall  f1-score   support\n",
      "\n",
      "        0.0       0.98      0.96      0.97      7460\n",
      "        1.0       0.57      0.74      0.64       531\n",
      "\n",
      "avg / total       0.95      0.94      0.95      7991\n",
      "\n",
      "-----------------------------------------------------------------------------------------\n",
      "Using tfidf Vectorizer\n",
      "Training Accuracy: 0.943\n",
      "Validation Accuracy: 0.923\n",
      "f1-Score: 0.5810\n",
      "---------------------------------------------------------------------------------------\n",
      "Smallest Coefs: ['happi' 'orlando' 'bihday' 'life' 'today' 'love' 'healthi' 'tomorrow'\n",
      " 'smile' 'weekend']\n",
      "Largest Coefs: ['allahsoil' 'white' 'racist' 'racism' 'bigot' 'against' 'women' 'trump'\n",
      " 'black' 'blacklivesmatt']\n",
      "--------------------------------------------------------------------------------------\n",
      "Classfication Report: \n",
      "             precision    recall  f1-score   support\n",
      "\n",
      "        0.0       0.98      0.93      0.96      7460\n",
      "        1.0       0.46      0.80      0.58       531\n",
      "\n",
      "avg / total       0.95      0.92      0.93      7991\n",
      "\n"
     ]
    }
   ],
   "source": [
    "ml_modeling(clf_log, train_clean, test_clean)"
   ]
  },
  {
   "cell_type": "code",
   "execution_count": 76,
   "metadata": {},
   "outputs": [
    {
     "name": "stdout",
     "output_type": "stream",
     "text": [
      "Using Count Vectorizer\n",
      "Training Accuracy: 0.995\n",
      "Validation Accuracy: 0.961\n",
      "f1-Score: 0.6360\n",
      "--------------------------------------------------------------------------------------\n",
      "Classfication Report: \n",
      "             precision    recall  f1-score   support\n",
      "\n",
      "        0.0       0.97      0.99      0.98      7460\n",
      "        1.0       0.85      0.51      0.64       531\n",
      "\n",
      "avg / total       0.96      0.96      0.96      7991\n",
      "\n",
      "-----------------------------------------------------------------------------------------\n",
      "Using tfidf Vectorizer\n",
      "Training Accuracy: 0.994\n",
      "Validation Accuracy: 0.961\n",
      "f1-Score: 0.6423\n",
      "--------------------------------------------------------------------------------------\n",
      "Classfication Report: \n",
      "             precision    recall  f1-score   support\n",
      "\n",
      "        0.0       0.97      0.99      0.98      7460\n",
      "        1.0       0.82      0.53      0.64       531\n",
      "\n",
      "avg / total       0.96      0.96      0.96      7991\n",
      "\n"
     ]
    }
   ],
   "source": [
    "ml_modeling(clf_rf, train_clean, test_clean)"
   ]
  },
  {
   "cell_type": "code",
   "execution_count": 77,
   "metadata": {},
   "outputs": [
    {
     "name": "stdout",
     "output_type": "stream",
     "text": [
      "Using Count Vectorizer\n",
      "Training Accuracy: 0.995\n",
      "Validation Accuracy: 0.958\n",
      "f1-Score: 0.6024\n",
      "--------------------------------------------------------------------------------------\n",
      "Classfication Report: \n",
      "             precision    recall  f1-score   support\n",
      "\n",
      "        0.0       0.96      0.99      0.98      7460\n",
      "        1.0       0.80      0.48      0.60       531\n",
      "\n",
      "avg / total       0.95      0.96      0.95      7991\n",
      "\n",
      "-----------------------------------------------------------------------------------------\n",
      "Using tfidf Vectorizer\n",
      "Training Accuracy: 0.994\n",
      "Validation Accuracy: 0.958\n",
      "f1-Score: 0.6263\n",
      "--------------------------------------------------------------------------------------\n",
      "Classfication Report: \n",
      "             precision    recall  f1-score   support\n",
      "\n",
      "        0.0       0.97      0.99      0.98      7460\n",
      "        1.0       0.78      0.53      0.63       531\n",
      "\n",
      "avg / total       0.95      0.96      0.95      7991\n",
      "\n"
     ]
    }
   ],
   "source": [
    "ml_modeling(clf_rf_1, train_clean, test_clean)"
   ]
  },
  {
   "cell_type": "code",
   "execution_count": 78,
   "metadata": {},
   "outputs": [
    {
     "name": "stdout",
     "output_type": "stream",
     "text": [
      "Using Count Vectorizer\n",
      "Training Accuracy: 0.953\n",
      "Validation Accuracy: 0.946\n",
      "f1-Score: 0.3323\n",
      "---------------------------------------------------------------------------------------\n",
      "Smallest Coefs: ['aaaaa' 'opendata' 'opec' 'opc' 'opac' 'ooz' 'ooxg' 'ootn' 'ootd'\n",
      " 'openfollow']\n",
      "Largest Coefs: ['that' 'trump' 'thi' 'white' 'like' 'black' 'with' 'have' 'racist'\n",
      " 'polit']\n",
      "--------------------------------------------------------------------------------------\n",
      "Classfication Report: \n",
      "             precision    recall  f1-score   support\n",
      "\n",
      "        0.0       0.95      1.00      0.97      7460\n",
      "        1.0       0.95      0.20      0.33       531\n",
      "\n",
      "avg / total       0.95      0.95      0.93      7991\n",
      "\n",
      "-----------------------------------------------------------------------------------------\n",
      "Using tfidf Vectorizer\n",
      "Training Accuracy: 0.953\n",
      "Validation Accuracy: 0.944\n",
      "f1-Score: 0.5902\n",
      "---------------------------------------------------------------------------------------\n",
      "Smallest Coefs: ['aap' 'mensfashion' 'mentalhealth' 'mentalil' 'mentor' 'menu' 'merced'\n",
      " 'mess' 'memori' 'metal']\n",
      "Largest Coefs: ['that' 'trump' 'thi' 'white' 'like' 'black' 'with' 'have' 'racist'\n",
      " 'polit']\n",
      "--------------------------------------------------------------------------------------\n",
      "Classfication Report: \n",
      "             precision    recall  f1-score   support\n",
      "\n",
      "        0.0       0.97      0.97      0.97      7460\n",
      "        1.0       0.57      0.61      0.59       531\n",
      "\n",
      "avg / total       0.95      0.94      0.94      7991\n",
      "\n"
     ]
    }
   ],
   "source": [
    "ml_modeling(clf_bnb, train_clean, test_clean)"
   ]
  },
  {
   "cell_type": "code",
   "execution_count": 79,
   "metadata": {},
   "outputs": [],
   "source": [
    "#using tfidf vectorizer\n",
    "tf_idf= TfidfVectorizer(stop_words= 'english')\n",
    "tf= tf_idf.fit_transform(df_all['clean_tweet'].apply(lambda x: ' '.join(x)))"
   ]
  },
  {
   "cell_type": "code",
   "execution_count": 80,
   "metadata": {},
   "outputs": [
    {
     "data": {
      "text/plain": [
       "<49159x40053 sparse matrix of type '<class 'numpy.float64'>'\n",
       "\twith 309524 stored elements in Compressed Sparse Row format>"
      ]
     },
     "execution_count": 80,
     "metadata": {},
     "output_type": "execute_result"
    }
   ],
   "source": [
    "tf"
   ]
  },
  {
   "cell_type": "code",
   "execution_count": 81,
   "metadata": {},
   "outputs": [],
   "source": [
    "tf_train= tf[:len(df_train)]\n",
    "tf_test= tf[len(df_train):]"
   ]
  },
  {
   "cell_type": "code",
   "execution_count": 82,
   "metadata": {},
   "outputs": [],
   "source": [
    "label= train['label']"
   ]
  },
  {
   "cell_type": "markdown",
   "metadata": {},
   "source": [
    "### Using tfidfvectorizer"
   ]
  },
  {
   "cell_type": "code",
   "execution_count": 83,
   "metadata": {},
   "outputs": [],
   "source": [
    "#model building\n",
    "X_train, X_test, y_train, y_test= train_test_split(tf_train, label, random_state= 101)"
   ]
  },
  {
   "cell_type": "code",
   "execution_count": 84,
   "metadata": {},
   "outputs": [
    {
     "name": "stdout",
     "output_type": "stream",
     "text": [
      "Training Accuracy: 0.966\n",
      "Validation Accuracy: 0.945\n",
      "f1-Score: 0.6621\n"
     ]
    }
   ],
   "source": [
    "#vect_count= CountVectorizer().fit(X_train)\n",
    "#X_train_vect= vect_count.transform(X_train)\n",
    "\n",
    "clf_log.fit(X_train, y_train)\n",
    "\n",
    "predictions= clf_log.predict(X_test)\n",
    "pred_ori= clf_log.predict(tf_test)\n",
    "#print accuracies\n",
    "print('Training Accuracy: {:.3f}' .format(clf_log.score(X_train, y_train)))\n",
    "print('Validation Accuracy: {:.3f}' .format(accuracy_score(y_test, predictions)))\n",
    "print('f1-Score: {:.4f}' .format(f1_score(y_test, predictions)))"
   ]
  },
  {
   "cell_type": "markdown",
   "metadata": {},
   "source": [
    "#### I got overall best result by using the Logistic Regression Algorithm."
   ]
  }
 ],
 "metadata": {
  "kernelspec": {
   "display_name": "Python 3",
   "language": "python",
   "name": "python3"
  },
  "language_info": {
   "codemirror_mode": {
    "name": "ipython",
    "version": 3
   },
   "file_extension": ".py",
   "mimetype": "text/x-python",
   "name": "python",
   "nbconvert_exporter": "python",
   "pygments_lexer": "ipython3",
   "version": "3.6.4"
  }
 },
 "nbformat": 4,
 "nbformat_minor": 2
}
