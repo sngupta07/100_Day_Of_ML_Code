{
 "cells": [
  {
   "cell_type": "markdown",
   "metadata": {},
   "source": [
    "### 100DaysOfMLCodes"
   ]
  },
  {
   "cell_type": "markdown",
   "metadata": {},
   "source": [
    "### Day_4 (Learn Ensemble Learning and Implementation)"
   ]
  },
  {
   "cell_type": "markdown",
   "metadata": {},
   "source": [
    "<b style= \"font-size: 30px;\">ENSEMBLE LEARNING</b>"
   ]
  },
  {
   "cell_type": "markdown",
   "metadata": {},
   "source": [
    "<img src=\"ensemble.png\" alt=\"Drawing\" style=\"width: 500px;\"/>\n",
    "Fig. Show Ensemble Modeling"
   ]
  },
  {
   "cell_type": "code",
   "execution_count": 1,
   "metadata": {},
   "outputs": [],
   "source": [
    "#Libraries for the computation\n",
    "import pandas as pd\n",
    "import numpy as np\n",
    "\n",
    "#libraries for the visualization\n",
    "import matplotlib.pyplot as plt\n",
    "import seaborn as sns\n",
    "\n",
    "#libraries for the data processing\n",
    "from sklearn.preprocessing import LabelEncoder, StandardScaler\n",
    "\n",
    "#libraries for the purpose of machine learning\n",
    "from sklearn.model_selection import train_test_split, cross_val_score\n",
    "from sklearn.linear_model import LogisticRegression\n",
    "from sklearn.tree import DecisionTreeClassifier, export_graphviz\n",
    "from sklearn.naive_bayes import GaussianNB\n",
    "from sklearn.neighbors import KNeighborsClassifier\n",
    "from sklearn.neural_network import MLPClassifier\n",
    "from sklearn.ensemble import RandomForestClassifier, GradientBoostingClassifier, VotingClassifier, AdaBoostClassifier, BaggingClassifier\n",
    "\n",
    "from sklearn.metrics import accuracy_score, roc_curve, roc_auc_score, auc\n",
    "\n",
    "from mlxtend.classifier import StackingClassifier\n",
    "from mlxtend.plotting import plot_decision_regions\n",
    "import matplotlib.gridspec as gridspec\n",
    "import itertools"
   ]
  },
  {
   "cell_type": "code",
   "execution_count": 2,
   "metadata": {},
   "outputs": [],
   "source": [
    "%matplotlib inline"
   ]
  },
  {
   "cell_type": "code",
   "execution_count": 3,
   "metadata": {},
   "outputs": [],
   "source": [
    "plt.style.use('ggplot')"
   ]
  },
  {
   "cell_type": "code",
   "execution_count": 4,
   "metadata": {},
   "outputs": [],
   "source": [
    "sns.set(style= 'ticks', color_codes= True)"
   ]
  },
  {
   "cell_type": "markdown",
   "metadata": {},
   "source": [
    "### Predicting Rebublican and Democratic Donations"
   ]
  },
  {
   "cell_type": "markdown",
   "metadata": {},
   "source": [
    "<b>To illustrate the work of ensemble, I'll use the dataset on U.S. political contribution. It is classification based problem and I've to predict is the donation made by Democratic party or Republic Party, so, I remove all other parties donation from the dataset. Here, I used only important columns that likely useful in prediction.</b>"
   ]
  },
  {
   "cell_type": "markdown",
   "metadata": {},
   "source": [
    "<b>Source of the dataset: </b> [Political Data U.S.](https://github.com/fivethirtyeight/data/tree/master/science-giving)"
   ]
  },
  {
   "cell_type": "code",
   "execution_count": 5,
   "metadata": {},
   "outputs": [],
   "source": [
    "#I already preprocessed the data thus I directly read the csv file\n",
    "data= pd.read_csv('Political dataset/input.csv')"
   ]
  },
  {
   "cell_type": "markdown",
   "metadata": {},
   "source": [
    "#### About the features\n",
    "<pre>\n",
    "<b> 1. entity_tp: tells us whether the prediction was made by an individual (as opposed to an org.)\n",
    "    2. state: is the state of residence of the contributor\n",
    "    3. classification: is the scientific field they work in\n",
    "    4. rpt_tp: this features identifies contributions made during campaigns\n",
    "    5. tranctional_tp: the from of contribution made, for instance from the candidate himself/herself, or from an      individual to a political committee\n",
    "    6. cycle: the year of the contibution was made\n",
    "    7. transction_amt: the nominal USD amount of the donation\n",
    "    8. cand_pty_affiliation: is the candidate self-reported party affiliation, this is the variable we want to predict\n",
    "    9. cand_office_st: is the state the candidate is active in\n",
    "    10. cand_office: is the office they are either occupying or candidating for\n",
    "    11. cand_status: tells us whether they are candidating for the office or already occupying it\n",
    "</b>\n",
    "</pre>"
   ]
  },
  {
   "cell_type": "code",
   "execution_count": 6,
   "metadata": {},
   "outputs": [
    {
     "data": {
      "text/html": [
       "<div>\n",
       "<style scoped>\n",
       "    .dataframe tbody tr th:only-of-type {\n",
       "        vertical-align: middle;\n",
       "    }\n",
       "\n",
       "    .dataframe tbody tr th {\n",
       "        vertical-align: top;\n",
       "    }\n",
       "\n",
       "    .dataframe thead th {\n",
       "        text-align: right;\n",
       "    }\n",
       "</style>\n",
       "<table border=\"1\" class=\"dataframe\">\n",
       "  <thead>\n",
       "    <tr style=\"text-align: right;\">\n",
       "      <th></th>\n",
       "      <th>cand_pty_affiliation</th>\n",
       "      <th>cand_office_st</th>\n",
       "      <th>cand_office</th>\n",
       "      <th>cand_status</th>\n",
       "      <th>rpt_tp</th>\n",
       "      <th>transaction_tp</th>\n",
       "      <th>entity_tp</th>\n",
       "      <th>state</th>\n",
       "      <th>classification</th>\n",
       "      <th>cycle</th>\n",
       "      <th>transaction_amt</th>\n",
       "    </tr>\n",
       "  </thead>\n",
       "  <tbody>\n",
       "    <tr>\n",
       "      <th>0</th>\n",
       "      <td>REP</td>\n",
       "      <td>US</td>\n",
       "      <td>P</td>\n",
       "      <td>C</td>\n",
       "      <td>Q3</td>\n",
       "      <td>15</td>\n",
       "      <td>IND</td>\n",
       "      <td>NY</td>\n",
       "      <td>Engineer</td>\n",
       "      <td>2016.0</td>\n",
       "      <td>500.0</td>\n",
       "    </tr>\n",
       "    <tr>\n",
       "      <th>1</th>\n",
       "      <td>DEM</td>\n",
       "      <td>US</td>\n",
       "      <td>P</td>\n",
       "      <td>C</td>\n",
       "      <td>M5</td>\n",
       "      <td>15E</td>\n",
       "      <td>IND</td>\n",
       "      <td>OR</td>\n",
       "      <td>Math-Stat</td>\n",
       "      <td>2016.0</td>\n",
       "      <td>50.0</td>\n",
       "    </tr>\n",
       "    <tr>\n",
       "      <th>2</th>\n",
       "      <td>DEM</td>\n",
       "      <td>US</td>\n",
       "      <td>P</td>\n",
       "      <td>C</td>\n",
       "      <td>M3</td>\n",
       "      <td>15</td>\n",
       "      <td>IND</td>\n",
       "      <td>TX</td>\n",
       "      <td>Scientist</td>\n",
       "      <td>2008.0</td>\n",
       "      <td>250.0</td>\n",
       "    </tr>\n",
       "    <tr>\n",
       "      <th>3</th>\n",
       "      <td>DEM</td>\n",
       "      <td>US</td>\n",
       "      <td>P</td>\n",
       "      <td>C</td>\n",
       "      <td>Q2</td>\n",
       "      <td>15E</td>\n",
       "      <td>IND</td>\n",
       "      <td>IN</td>\n",
       "      <td>Math-Stat</td>\n",
       "      <td>2016.0</td>\n",
       "      <td>250.0</td>\n",
       "    </tr>\n",
       "    <tr>\n",
       "      <th>4</th>\n",
       "      <td>REP</td>\n",
       "      <td>US</td>\n",
       "      <td>P</td>\n",
       "      <td>C</td>\n",
       "      <td>12G</td>\n",
       "      <td>15</td>\n",
       "      <td>IND</td>\n",
       "      <td>MA</td>\n",
       "      <td>Engineer</td>\n",
       "      <td>2016.0</td>\n",
       "      <td>184.0</td>\n",
       "    </tr>\n",
       "  </tbody>\n",
       "</table>\n",
       "</div>"
      ],
      "text/plain": [
       "  cand_pty_affiliation cand_office_st cand_office cand_status rpt_tp  \\\n",
       "0                  REP             US           P           C     Q3   \n",
       "1                  DEM             US           P           C     M5   \n",
       "2                  DEM             US           P           C     M3   \n",
       "3                  DEM             US           P           C     Q2   \n",
       "4                  REP             US           P           C    12G   \n",
       "\n",
       "  transaction_tp entity_tp state classification   cycle  transaction_amt  \n",
       "0             15       IND    NY       Engineer  2016.0            500.0  \n",
       "1            15E       IND    OR      Math-Stat  2016.0             50.0  \n",
       "2             15       IND    TX      Scientist  2008.0            250.0  \n",
       "3            15E       IND    IN      Math-Stat  2016.0            250.0  \n",
       "4             15       IND    MA       Engineer  2016.0            184.0  "
      ]
     },
     "execution_count": 6,
     "metadata": {},
     "output_type": "execute_result"
    }
   ],
   "source": [
    "#glimpse of the data\n",
    "data.head()"
   ]
  },
  {
   "cell_type": "code",
   "execution_count": 7,
   "metadata": {},
   "outputs": [
    {
     "data": {
      "text/plain": [
       "(100000, 11)"
      ]
     },
     "execution_count": 7,
     "metadata": {},
     "output_type": "execute_result"
    }
   ],
   "source": [
    "data.shape"
   ]
  },
  {
   "cell_type": "code",
   "execution_count": 38,
   "metadata": {},
   "outputs": [
    {
     "data": {
      "text/plain": [
       "<matplotlib.axes._subplots.AxesSubplot at 0x1bc0bec54a8>"
      ]
     },
     "execution_count": 38,
     "metadata": {},
     "output_type": "execute_result"
    },
    {
     "data": {
      "image/png": "[encoded data removed]",
      "text/plain": [
       "<matplotlib.figure.Figure at 0x1bc0becf048>"
      ]
     },
     "metadata": {},
     "output_type": "display_data"
    }
   ],
   "source": [
    "#target feature is cand_pty_affiliation\n",
    "data['cand_pty_affiliation'].value_counts(normalize= True).plot(kind= 'bar', title= 'Share of no. of Donations')"
   ]
  },
  {
   "cell_type": "markdown",
   "metadata": {},
   "source": [
    "##### The above diagram showed that the 75% of donation done by the democratic party."
   ]
  },
  {
   "cell_type": "markdown",
   "metadata": {},
   "source": [
    "##### For the evaluation matric I used ROC_AUC_SCORE, which trades off having high recall and high precision."
   ]
  },
  {
   "cell_type": "code",
   "execution_count": 9,
   "metadata": {},
   "outputs": [
    {
     "data": {
      "text/plain": [
       "cand_pty_affiliation     object\n",
       "cand_office_st           object\n",
       "cand_office              object\n",
       "cand_status              object\n",
       "rpt_tp                   object\n",
       "transaction_tp           object\n",
       "entity_tp                object\n",
       "state                    object\n",
       "classification           object\n",
       "cycle                   float64\n",
       "transaction_amt         float64\n",
       "dtype: object"
      ]
     },
     "execution_count": 9,
     "metadata": {},
     "output_type": "execute_result"
    }
   ],
   "source": [
    "data.dtypes"
   ]
  },
  {
   "cell_type": "code",
   "execution_count": 10,
   "metadata": {},
   "outputs": [],
   "source": [
    "#now here I drop target variable from the dataset and for the encoding I used get_dummies() method\n",
    "y= data['cand_pty_affiliation'].map({'DEM': 1, 'REP': 0})\n",
    "X= pd.get_dummies(data.drop(['cand_pty_affiliation'],axis= 1), sparse= True)"
   ]
  },
  {
   "cell_type": "code",
   "execution_count": 11,
   "metadata": {},
   "outputs": [
    {
     "data": {
      "text/plain": [
       "((100000, 158), (100000,))"
      ]
     },
     "execution_count": 11,
     "metadata": {},
     "output_type": "execute_result"
    }
   ],
   "source": [
    "X.shape, y.shape"
   ]
  },
  {
   "cell_type": "code",
   "execution_count": 12,
   "metadata": {},
   "outputs": [],
   "source": [
    "#now here I split the data in training and validation set\n",
    "#first I set seed\n",
    "seed= 101\n",
    "np.random.seed(seed)\n",
    "\n",
    "X_train, X_test, y_train, y_test= train_test_split(X, y, test_size= 0.95, random_state= seed)"
   ]
  },
  {
   "cell_type": "markdown",
   "metadata": {},
   "source": [
    "### What is an Ensemble?\n",
    "<b> The basic idea behind the ensemble is combining the predictions from the several models averages out or vote out to make overall prediction better.</b><br>\n",
    "<br>\n",
    "<b><i>The image below shows the idea behind the ensemble learning</i></b>\n",
    "<img src=\"ensemble_network.png\" alt=\"Drawing\" style=\"width: 500px; allign: center\"/>"
   ]
  },
  {
   "cell_type": "markdown",
   "metadata": {},
   "source": [
    "<b> Here, we saw how the ensemble works, it take the predicted result from the individual ml learners and then combine it to make overall result authentics, better, overfitting free, etc.</b>"
   ]
  },
  {
   "cell_type": "markdown",
   "metadata": {},
   "source": [
    "### Understand Ensembling by combining Decision Trees "
   ]
  },
  {
   "cell_type": "code",
   "execution_count": 13,
   "metadata": {},
   "outputs": [],
   "source": [
    "def dt_ensemble(X_train, X_test, y_train, y_test, max_depth, seed= 101):\n",
    "    roc_score= []\n",
    "    acc_train= []\n",
    "    acc_test= []\n",
    "    for depth in max_depth:\n",
    "        clf_dt= DecisionTreeClassifier(max_depth= depth, random_state= seed)\n",
    "        \n",
    "        #fit the data\n",
    "        clf_dt.fit(X_train, y_train)\n",
    "        \n",
    "        #do prddiction\n",
    "        prediction= clf_dt.predict(X_test)\n",
    "        pred_prob= clf_dt.predict_proba(X_test)[::,-1]\n",
    "        score_roc= roc_auc_score(y_test, pred_prob)\n",
    "        \n",
    "        acc_tr= clf_dt.score(X_train, y_train)\n",
    "        acc_ts= accuracy_score(y_test, prediction)\n",
    "        \n",
    "        acc_train.append(acc_tr)\n",
    "        acc_test.append(acc_ts)\n",
    "        roc_score.append(score_roc)\n",
    "      \n",
    "    df= pd.DataFrame({\n",
    "        'Max_depth': max_depth,\n",
    "        'ROC_SCORE': roc_score,\n",
    "        'Accuracy_train': acc_train,\n",
    "        'Accuracy_test': acc_test\n",
    "    })\n",
    "    #plot the roc_score and max_depth\n",
    "    plt.plot(df['Max_depth'], df['ROC_SCORE'], lw= 4.0, label= 'ROC_SCORE')\n",
    "    plt.plot(df['Max_depth'], df['Accuracy_train'], lw= 4.0, label= 'Training Accuracy')\n",
    "    plt.plot(df['Max_depth'], df['Accuracy_test'], lw= 4.0, label= 'Testing Accuracy')\n",
    "    plt.title('Accuracy Curve of Decision Tree Classifier')\n",
    "    plt.legend(loc= 4)\n",
    "    plt.xlabel('Max_depth')\n",
    "    plt.ylabel('ROC_SCORE')\n",
    "    plt.show()\n",
    "    \n",
    "    return df"
   ]
  },
  {
   "cell_type": "code",
   "execution_count": 14,
   "metadata": {},
   "outputs": [
    {
     "data": {
      "image/png": "[encoded data removed]",
      "text/plain": [
       "<matplotlib.figure.Figure at 0x1bc08797b38>"
      ]
     },
     "metadata": {},
     "output_type": "display_data"
    }
   ],
   "source": [
    "max_depth= list(range(1, 11))\n",
    "df_result_1= dt_ensemble(X_train, X_test, y_train, y_test, max_depth= max_depth)"
   ]
  },
  {
   "cell_type": "code",
   "execution_count": 15,
   "metadata": {},
   "outputs": [
    {
     "data": {
      "text/html": [
       "<div>\n",
       "<style scoped>\n",
       "    .dataframe tbody tr th:only-of-type {\n",
       "        vertical-align: middle;\n",
       "    }\n",
       "\n",
       "    .dataframe tbody tr th {\n",
       "        vertical-align: top;\n",
       "    }\n",
       "\n",
       "    .dataframe thead th {\n",
       "        text-align: right;\n",
       "    }\n",
       "</style>\n",
       "<table border=\"1\" class=\"dataframe\">\n",
       "  <thead>\n",
       "    <tr style=\"text-align: right;\">\n",
       "      <th></th>\n",
       "      <th>Accuracy_test</th>\n",
       "      <th>Accuracy_train</th>\n",
       "      <th>Max_depth</th>\n",
       "      <th>ROC_SCORE</th>\n",
       "    </tr>\n",
       "  </thead>\n",
       "  <tbody>\n",
       "    <tr>\n",
       "      <th>0</th>\n",
       "      <td>0.755832</td>\n",
       "      <td>0.7608</td>\n",
       "      <td>1</td>\n",
       "      <td>0.672112</td>\n",
       "    </tr>\n",
       "    <tr>\n",
       "      <th>1</th>\n",
       "      <td>0.755832</td>\n",
       "      <td>0.7608</td>\n",
       "      <td>2</td>\n",
       "      <td>0.721398</td>\n",
       "    </tr>\n",
       "    <tr>\n",
       "      <th>2</th>\n",
       "      <td>0.775063</td>\n",
       "      <td>0.7870</td>\n",
       "      <td>3</td>\n",
       "      <td>0.740334</td>\n",
       "    </tr>\n",
       "    <tr>\n",
       "      <th>3</th>\n",
       "      <td>0.776179</td>\n",
       "      <td>0.7896</td>\n",
       "      <td>4</td>\n",
       "      <td>0.777649</td>\n",
       "    </tr>\n",
       "    <tr>\n",
       "      <th>4</th>\n",
       "      <td>0.776368</td>\n",
       "      <td>0.7908</td>\n",
       "      <td>5</td>\n",
       "      <td>0.803845</td>\n",
       "    </tr>\n",
       "    <tr>\n",
       "      <th>5</th>\n",
       "      <td>0.784179</td>\n",
       "      <td>0.8000</td>\n",
       "      <td>6</td>\n",
       "      <td>0.814804</td>\n",
       "    </tr>\n",
       "    <tr>\n",
       "      <th>6</th>\n",
       "      <td>0.788789</td>\n",
       "      <td>0.8098</td>\n",
       "      <td>7</td>\n",
       "      <td>0.822223</td>\n",
       "    </tr>\n",
       "    <tr>\n",
       "      <th>7</th>\n",
       "      <td>0.787284</td>\n",
       "      <td>0.8138</td>\n",
       "      <td>8</td>\n",
       "      <td>0.835127</td>\n",
       "    </tr>\n",
       "    <tr>\n",
       "      <th>8</th>\n",
       "      <td>0.786442</td>\n",
       "      <td>0.8260</td>\n",
       "      <td>9</td>\n",
       "      <td>0.834441</td>\n",
       "    </tr>\n",
       "    <tr>\n",
       "      <th>9</th>\n",
       "      <td>0.788074</td>\n",
       "      <td>0.8378</td>\n",
       "      <td>10</td>\n",
       "      <td>0.827032</td>\n",
       "    </tr>\n",
       "  </tbody>\n",
       "</table>\n",
       "</div>"
      ],
      "text/plain": [
       "   Accuracy_test  Accuracy_train  Max_depth  ROC_SCORE\n",
       "0       0.755832          0.7608          1   0.672112\n",
       "1       0.755832          0.7608          2   0.721398\n",
       "2       0.775063          0.7870          3   0.740334\n",
       "3       0.776179          0.7896          4   0.777649\n",
       "4       0.776368          0.7908          5   0.803845\n",
       "5       0.784179          0.8000          6   0.814804\n",
       "6       0.788789          0.8098          7   0.822223\n",
       "7       0.787284          0.8138          8   0.835127\n",
       "8       0.786442          0.8260          9   0.834441\n",
       "9       0.788074          0.8378         10   0.827032"
      ]
     },
     "execution_count": 15,
     "metadata": {},
     "output_type": "execute_result"
    }
   ],
   "source": [
    "df_result_1"
   ]
  },
  {
   "cell_type": "markdown",
   "metadata": {},
   "source": [
    "#### Variation of decision tree on bagging and boosting"
   ]
  },
  {
   "cell_type": "code",
   "execution_count": 49,
   "metadata": {},
   "outputs": [],
   "source": [
    "clf_dt= DecisionTreeClassifier(max_depth= 3, random_state= seed)\n",
    "clf_bag_dt= BaggingClassifier(base_estimator= DecisionTreeClassifier(max_depth= 3, random_state= seed),\n",
    "                              random_state= seed)\n",
    "clf_boost_dt= AdaBoostClassifier(base_estimator= DecisionTreeClassifier(max_depth= 3, random_state= seed),\n",
    "                                 random_state= seed)"
   ]
  },
  {
   "cell_type": "code",
   "execution_count": 51,
   "metadata": {},
   "outputs": [],
   "source": [
    "label= ['Clf_Decision_Tree', 'Clf_Bagging_Decision_Tree', 'Clf_Boosting_Decison_Tree']\n",
    "clf_list= [clf_dt, clf_bag_dt, clf_boost_dt]\n",
    "\n",
    "result_dt= model_auc(clf_list, X_train, X_test, y_train, y_test, label)"
   ]
  },
  {
   "cell_type": "code",
   "execution_count": 52,
   "metadata": {},
   "outputs": [
    {
     "data": {
      "text/html": [
       "<div>\n",
       "<style scoped>\n",
       "    .dataframe tbody tr th:only-of-type {\n",
       "        vertical-align: middle;\n",
       "    }\n",
       "\n",
       "    .dataframe tbody tr th {\n",
       "        vertical-align: top;\n",
       "    }\n",
       "\n",
       "    .dataframe thead th {\n",
       "        text-align: right;\n",
       "    }\n",
       "</style>\n",
       "<table border=\"1\" class=\"dataframe\">\n",
       "  <thead>\n",
       "    <tr style=\"text-align: right;\">\n",
       "      <th></th>\n",
       "      <th>Accuracy</th>\n",
       "      <th>Model</th>\n",
       "    </tr>\n",
       "  </thead>\n",
       "  <tbody>\n",
       "    <tr>\n",
       "      <th>0</th>\n",
       "      <td>0.740334</td>\n",
       "      <td>Clf_Decision_Tree</td>\n",
       "    </tr>\n",
       "    <tr>\n",
       "      <th>1</th>\n",
       "      <td>0.775484</td>\n",
       "      <td>Clf_Bagging_Decision_Tree</td>\n",
       "    </tr>\n",
       "    <tr>\n",
       "      <th>2</th>\n",
       "      <td>0.863472</td>\n",
       "      <td>Clf_Boosting_Decison_Tree</td>\n",
       "    </tr>\n",
       "  </tbody>\n",
       "</table>\n",
       "</div>"
      ],
      "text/plain": [
       "   Accuracy                      Model\n",
       "0  0.740334          Clf_Decision_Tree\n",
       "1  0.775484  Clf_Bagging_Decision_Tree\n",
       "2  0.863472  Clf_Boosting_Decison_Tree"
      ]
     },
     "execution_count": 52,
     "metadata": {},
     "output_type": "execute_result"
    }
   ],
   "source": [
    "result_dt"
   ]
  },
  {
   "cell_type": "code",
   "execution_count": 54,
   "metadata": {},
   "outputs": [
    {
     "data": {
      "text/plain": [
       "([<matplotlib.axis.XTick at 0x1bc0a2ddf28>,\n",
       "  <matplotlib.axis.XTick at 0x1bc10f8dda0>,\n",
       "  <matplotlib.axis.XTick at 0x1bc10edc2e8>],\n",
       " <a list of 3 Text xticklabel objects>)"
      ]
     },
     "execution_count": 54,
     "metadata": {},
     "output_type": "execute_result"
    },
    {
     "data": {
      "image/png": "[encoded data removed]",
      "text/plain": [
       "<matplotlib.figure.Figure at 0x1bc0a41d5f8>"
      ]
     },
     "metadata": {},
     "output_type": "display_data"
    }
   ],
   "source": [
    "loc= [0,1,2]\n",
    "result_dt['Accuracy'].plot(kind= 'bar', title= 'Bagging and Boosting Implementation in Decision Tree')\n",
    "plt.xticks(loc, label, rotation= 45)"
   ]
  },
  {
   "cell_type": "markdown",
   "metadata": {},
   "source": [
    "##### As you saw the above graph on increasing the no. of tree the complexity also increases, so the best no. of tree in between the less complex model and more complex model, thus I can say where the gap between the training and testing accuracy is less, that is best fit. Thus the best no. max_depth is either 3 or 5."
   ]
  },
  {
   "cell_type": "markdown",
   "metadata": {},
   "source": [
    "### KNeighbors Classifier for understanding of ensembles Learning"
   ]
  },
  {
   "cell_type": "code",
   "execution_count": 57,
   "metadata": {},
   "outputs": [],
   "source": [
    "def knn_ensemble(X_train, X_test, y_train, y_test, neighbors, seed= 101):\n",
    "    roc_score= []\n",
    "    acc_train= []\n",
    "    acc_test= []\n",
    "    for n in max_depth:\n",
    "        clf_dt= KNeighborsClassifier(n_neighbors= n)\n",
    "        \n",
    "        #fit the data\n",
    "        clf_dt.fit(X_train, y_train)\n",
    "        \n",
    "        #do prddiction\n",
    "        prediction= clf_dt.predict(X_test)\n",
    "        pred_prob= clf_dt.predict_proba(X_test)[::,-1]\n",
    "        score_roc= roc_auc_score(y_test, pred_prob)\n",
    "        \n",
    "        acc_tr= clf_dt.score(X_train, y_train)\n",
    "        acc_ts= accuracy_score(y_test, prediction)\n",
    "        \n",
    "        acc_train.append(acc_tr)\n",
    "        acc_test.append(acc_ts)\n",
    "        roc_score.append(score_roc)\n",
    "      \n",
    "    df= pd.DataFrame({\n",
    "        'Neighbors': neighbors,\n",
    "        'ROC_SCORE': roc_score,\n",
    "        'Accuracy_train': acc_train,\n",
    "        'Accuracy_test': acc_test\n",
    "    })\n",
    "    #plot the roc_score and max_depth\n",
    "    plt.plot(df['Neighbors'], df['ROC_SCORE'], lw= 4.0, label= 'ROC_SCORE')\n",
    "    plt.plot(df['Neighbors'], df['Accuracy_train'], lw= 4.0, label= 'Training Accuracy')\n",
    "    plt.plot(df['Neighbors'], df['Accuracy_test'], lw= 4.0, label= 'Testing Accuracy')\n",
    "    plt.title('Accuracy Curve of KNeighborsClassifier')\n",
    "    plt.legend(loc= 4)\n",
    "    plt.xlabel('n_neighbors')\n",
    "    plt.ylabel('ROC_SCORE')\n",
    "    plt.show()\n",
    "    \n",
    "    return df"
   ]
  },
  {
   "cell_type": "code",
   "execution_count": 58,
   "metadata": {},
   "outputs": [
    {
     "data": {
      "image/png": "[encoded data removed]",
      "text/plain": [
       "<matplotlib.figure.Figure at 0x1bc114ed860>"
      ]
     },
     "metadata": {},
     "output_type": "display_data"
    }
   ],
   "source": [
    "neighbors= range(1, 11)\n",
    "df_result_knn= knn_ensemble(X_train, X_test, y_train, y_test, neighbors)"
   ]
  },
  {
   "cell_type": "code",
   "execution_count": 59,
   "metadata": {},
   "outputs": [
    {
     "data": {
      "text/html": [
       "<div>\n",
       "<style scoped>\n",
       "    .dataframe tbody tr th:only-of-type {\n",
       "        vertical-align: middle;\n",
       "    }\n",
       "\n",
       "    .dataframe tbody tr th {\n",
       "        vertical-align: top;\n",
       "    }\n",
       "\n",
       "    .dataframe thead th {\n",
       "        text-align: right;\n",
       "    }\n",
       "</style>\n",
       "<table border=\"1\" class=\"dataframe\">\n",
       "  <thead>\n",
       "    <tr style=\"text-align: right;\">\n",
       "      <th></th>\n",
       "      <th>Accuracy_test</th>\n",
       "      <th>Accuracy_train</th>\n",
       "      <th>Neighbors</th>\n",
       "      <th>ROC_SCORE</th>\n",
       "    </tr>\n",
       "  </thead>\n",
       "  <tbody>\n",
       "    <tr>\n",
       "      <th>0</th>\n",
       "      <td>0.777558</td>\n",
       "      <td>0.9826</td>\n",
       "      <td>1</td>\n",
       "      <td>0.690615</td>\n",
       "    </tr>\n",
       "    <tr>\n",
       "      <th>1</th>\n",
       "      <td>0.755379</td>\n",
       "      <td>0.8880</td>\n",
       "      <td>2</td>\n",
       "      <td>0.756508</td>\n",
       "    </tr>\n",
       "    <tr>\n",
       "      <th>2</th>\n",
       "      <td>0.791232</td>\n",
       "      <td>0.8888</td>\n",
       "      <td>3</td>\n",
       "      <td>0.789077</td>\n",
       "    </tr>\n",
       "    <tr>\n",
       "      <th>3</th>\n",
       "      <td>0.780558</td>\n",
       "      <td>0.8674</td>\n",
       "      <td>4</td>\n",
       "      <td>0.805156</td>\n",
       "    </tr>\n",
       "    <tr>\n",
       "      <th>4</th>\n",
       "      <td>0.790926</td>\n",
       "      <td>0.8614</td>\n",
       "      <td>5</td>\n",
       "      <td>0.813229</td>\n",
       "    </tr>\n",
       "    <tr>\n",
       "      <th>5</th>\n",
       "      <td>0.787200</td>\n",
       "      <td>0.8528</td>\n",
       "      <td>6</td>\n",
       "      <td>0.819462</td>\n",
       "    </tr>\n",
       "    <tr>\n",
       "      <th>6</th>\n",
       "      <td>0.789653</td>\n",
       "      <td>0.8488</td>\n",
       "      <td>7</td>\n",
       "      <td>0.823521</td>\n",
       "    </tr>\n",
       "    <tr>\n",
       "      <th>7</th>\n",
       "      <td>0.786895</td>\n",
       "      <td>0.8434</td>\n",
       "      <td>8</td>\n",
       "      <td>0.826587</td>\n",
       "    </tr>\n",
       "    <tr>\n",
       "      <th>8</th>\n",
       "      <td>0.787979</td>\n",
       "      <td>0.8348</td>\n",
       "      <td>9</td>\n",
       "      <td>0.827101</td>\n",
       "    </tr>\n",
       "    <tr>\n",
       "      <th>9</th>\n",
       "      <td>0.786695</td>\n",
       "      <td>0.8374</td>\n",
       "      <td>10</td>\n",
       "      <td>0.828603</td>\n",
       "    </tr>\n",
       "  </tbody>\n",
       "</table>\n",
       "</div>"
      ],
      "text/plain": [
       "   Accuracy_test  Accuracy_train  Neighbors  ROC_SCORE\n",
       "0       0.777558          0.9826          1   0.690615\n",
       "1       0.755379          0.8880          2   0.756508\n",
       "2       0.791232          0.8888          3   0.789077\n",
       "3       0.780558          0.8674          4   0.805156\n",
       "4       0.790926          0.8614          5   0.813229\n",
       "5       0.787200          0.8528          6   0.819462\n",
       "6       0.789653          0.8488          7   0.823521\n",
       "7       0.786895          0.8434          8   0.826587\n",
       "8       0.787979          0.8348          9   0.827101\n",
       "9       0.786695          0.8374         10   0.828603"
      ]
     },
     "execution_count": 59,
     "metadata": {},
     "output_type": "execute_result"
    }
   ],
   "source": [
    "df_result_knn"
   ]
  },
  {
   "cell_type": "markdown",
   "metadata": {},
   "source": [
    "##### As saw the graph and dataframe the best n_neighbors value is 8."
   ]
  },
  {
   "cell_type": "code",
   "execution_count": 60,
   "metadata": {},
   "outputs": [],
   "source": [
    "clf_knn= KNeighborsClassifier(n_neighbors= 8)\n",
    "clf_bag_knn= BaggingClassifier(clf_knn, random_state= seed)\n",
    "clf_boost_knn= AdaBoostClassifier(clf_knn, random_state= seed, )"
   ]
  },
  {
   "cell_type": "code",
   "execution_count": 63,
   "metadata": {},
   "outputs": [
    {
     "ename": "ValueError",
     "evalue": "KNeighborsClassifier doesn't support sample_weight.",
     "output_type": "error",
     "traceback": [
      "\u001b[1;31m---------------------------------------------------------------------------\u001b[0m",
      "\u001b[1;31mValueError\u001b[0m                                Traceback (most recent call last)",
      "\u001b[1;32m<ipython-input-63-d550b64f7675>\u001b[0m in \u001b[0;36m<module>\u001b[1;34m()\u001b[0m\n\u001b[0;32m      2\u001b[0m \u001b[0mclf_list_knn\u001b[0m\u001b[1;33m=\u001b[0m \u001b[1;33m[\u001b[0m\u001b[0mclf_knn\u001b[0m\u001b[1;33m,\u001b[0m \u001b[0mclf_bag_knn\u001b[0m\u001b[1;33m,\u001b[0m \u001b[0mclf_boost_knn\u001b[0m\u001b[1;33m]\u001b[0m\u001b[1;33m\u001b[0m\u001b[0m\n\u001b[0;32m      3\u001b[0m \u001b[1;33m\u001b[0m\u001b[0m\n\u001b[1;32m----> 4\u001b[1;33m \u001b[0mdf_result_knn_1\u001b[0m\u001b[1;33m=\u001b[0m \u001b[0mmodel_auc\u001b[0m\u001b[1;33m(\u001b[0m\u001b[0mclf_list_knn\u001b[0m\u001b[1;33m,\u001b[0m \u001b[0mX_train\u001b[0m\u001b[1;33m,\u001b[0m \u001b[0mX_test\u001b[0m\u001b[1;33m,\u001b[0m \u001b[0my_train\u001b[0m\u001b[1;33m,\u001b[0m \u001b[0my_test\u001b[0m\u001b[1;33m,\u001b[0m \u001b[0mlabel_knn\u001b[0m\u001b[1;33m)\u001b[0m\u001b[1;33m\u001b[0m\u001b[0m\n\u001b[0m",
      "\u001b[1;32m<ipython-input-62-9936e3a570e5>\u001b[0m in \u001b[0;36mmodel_auc\u001b[1;34m(classifier, X_train, X_test, y_train, y_test, name)\u001b[0m\n\u001b[0;32m      7\u001b[0m     \u001b[1;31m#fitting model\u001b[0m\u001b[1;33m\u001b[0m\u001b[1;33m\u001b[0m\u001b[0m\n\u001b[0;32m      8\u001b[0m     \u001b[1;32mfor\u001b[0m \u001b[0mmodel\u001b[0m \u001b[1;32min\u001b[0m \u001b[0mclassifier\u001b[0m\u001b[1;33m:\u001b[0m\u001b[1;33m\u001b[0m\u001b[0m\n\u001b[1;32m----> 9\u001b[1;33m         \u001b[0mmodel\u001b[0m\u001b[1;33m.\u001b[0m\u001b[0mfit\u001b[0m\u001b[1;33m(\u001b[0m\u001b[0mX_train\u001b[0m\u001b[1;33m,\u001b[0m \u001b[0my_train\u001b[0m\u001b[1;33m)\u001b[0m\u001b[1;33m\u001b[0m\u001b[0m\n\u001b[0m\u001b[0;32m     10\u001b[0m \u001b[1;33m\u001b[0m\u001b[0m\n\u001b[0;32m     11\u001b[0m         \u001b[0mprediction\u001b[0m\u001b[1;33m=\u001b[0m \u001b[0mmodel\u001b[0m\u001b[1;33m.\u001b[0m\u001b[0mpredict_proba\u001b[0m\u001b[1;33m(\u001b[0m\u001b[0mX_test\u001b[0m\u001b[1;33m)\u001b[0m\u001b[1;33m[\u001b[0m\u001b[1;33m:\u001b[0m\u001b[1;33m:\u001b[0m\u001b[1;33m,\u001b[0m \u001b[1;33m-\u001b[0m\u001b[1;36m1\u001b[0m\u001b[1;33m]\u001b[0m\u001b[1;33m\u001b[0m\u001b[0m\n",
      "\u001b[1;32m~\\Anaconda3\\lib\\site-packages\\sklearn\\ensemble\\weight_boosting.py\u001b[0m in \u001b[0;36mfit\u001b[1;34m(self, X, y, sample_weight)\u001b[0m\n\u001b[0;32m    411\u001b[0m \u001b[1;33m\u001b[0m\u001b[0m\n\u001b[0;32m    412\u001b[0m         \u001b[1;31m# Fit\u001b[0m\u001b[1;33m\u001b[0m\u001b[1;33m\u001b[0m\u001b[0m\n\u001b[1;32m--> 413\u001b[1;33m         \u001b[1;32mreturn\u001b[0m \u001b[0msuper\u001b[0m\u001b[1;33m(\u001b[0m\u001b[0mAdaBoostClassifier\u001b[0m\u001b[1;33m,\u001b[0m \u001b[0mself\u001b[0m\u001b[1;33m)\u001b[0m\u001b[1;33m.\u001b[0m\u001b[0mfit\u001b[0m\u001b[1;33m(\u001b[0m\u001b[0mX\u001b[0m\u001b[1;33m,\u001b[0m \u001b[0my\u001b[0m\u001b[1;33m,\u001b[0m \u001b[0msample_weight\u001b[0m\u001b[1;33m)\u001b[0m\u001b[1;33m\u001b[0m\u001b[0m\n\u001b[0m\u001b[0;32m    414\u001b[0m \u001b[1;33m\u001b[0m\u001b[0m\n\u001b[0;32m    415\u001b[0m     \u001b[1;32mdef\u001b[0m \u001b[0m_validate_estimator\u001b[0m\u001b[1;33m(\u001b[0m\u001b[0mself\u001b[0m\u001b[1;33m)\u001b[0m\u001b[1;33m:\u001b[0m\u001b[1;33m\u001b[0m\u001b[0m\n",
      "\u001b[1;32m~\\Anaconda3\\lib\\site-packages\\sklearn\\ensemble\\weight_boosting.py\u001b[0m in \u001b[0;36mfit\u001b[1;34m(self, X, y, sample_weight)\u001b[0m\n\u001b[0;32m    128\u001b[0m \u001b[1;33m\u001b[0m\u001b[0m\n\u001b[0;32m    129\u001b[0m         \u001b[1;31m# Check parameters\u001b[0m\u001b[1;33m\u001b[0m\u001b[1;33m\u001b[0m\u001b[0m\n\u001b[1;32m--> 130\u001b[1;33m         \u001b[0mself\u001b[0m\u001b[1;33m.\u001b[0m\u001b[0m_validate_estimator\u001b[0m\u001b[1;33m(\u001b[0m\u001b[1;33m)\u001b[0m\u001b[1;33m\u001b[0m\u001b[0m\n\u001b[0m\u001b[0;32m    131\u001b[0m \u001b[1;33m\u001b[0m\u001b[0m\n\u001b[0;32m    132\u001b[0m         \u001b[1;31m# Clear any previous fit results\u001b[0m\u001b[1;33m\u001b[0m\u001b[1;33m\u001b[0m\u001b[0m\n",
      "\u001b[1;32m~\\Anaconda3\\lib\\site-packages\\sklearn\\ensemble\\weight_boosting.py\u001b[0m in \u001b[0;36m_validate_estimator\u001b[1;34m(self)\u001b[0m\n\u001b[0;32m    429\u001b[0m         \u001b[1;32mif\u001b[0m \u001b[1;32mnot\u001b[0m \u001b[0mhas_fit_parameter\u001b[0m\u001b[1;33m(\u001b[0m\u001b[0mself\u001b[0m\u001b[1;33m.\u001b[0m\u001b[0mbase_estimator_\u001b[0m\u001b[1;33m,\u001b[0m \u001b[1;34m\"sample_weight\"\u001b[0m\u001b[1;33m)\u001b[0m\u001b[1;33m:\u001b[0m\u001b[1;33m\u001b[0m\u001b[0m\n\u001b[0;32m    430\u001b[0m             raise ValueError(\"%s doesn't support sample_weight.\"\n\u001b[1;32m--> 431\u001b[1;33m                              % self.base_estimator_.__class__.__name__)\n\u001b[0m\u001b[0;32m    432\u001b[0m \u001b[1;33m\u001b[0m\u001b[0m\n\u001b[0;32m    433\u001b[0m     \u001b[1;32mdef\u001b[0m \u001b[0m_boost\u001b[0m\u001b[1;33m(\u001b[0m\u001b[0mself\u001b[0m\u001b[1;33m,\u001b[0m \u001b[0miboost\u001b[0m\u001b[1;33m,\u001b[0m \u001b[0mX\u001b[0m\u001b[1;33m,\u001b[0m \u001b[0my\u001b[0m\u001b[1;33m,\u001b[0m \u001b[0msample_weight\u001b[0m\u001b[1;33m,\u001b[0m \u001b[0mrandom_state\u001b[0m\u001b[1;33m)\u001b[0m\u001b[1;33m:\u001b[0m\u001b[1;33m\u001b[0m\u001b[0m\n",
      "\u001b[1;31mValueError\u001b[0m: KNeighborsClassifier doesn't support sample_weight."
     ]
    }
   ],
   "source": [
    "label_knn= ['KNeighborsClf', 'KNeighborsClfBag', 'KNeighborsClfBoost']\n",
    "clf_list_knn= [clf_knn, clf_bag_knn, clf_boost_knn]\n",
    "\n",
    "df_result_knn_1= model_auc(clf_list_knn, X_train, X_test, y_train, y_test, label_knn)"
   ]
  },
  {
   "cell_type": "code",
   "execution_count": null,
   "metadata": {},
   "outputs": [],
   "source": []
  },
  {
   "cell_type": "code",
   "execution_count": 64,
   "metadata": {},
   "outputs": [],
   "source": [
    "#now check out different models \n",
    "clf_log= LogisticRegression(random_state= seed)\n",
    "clf_gnb= GaussianNB()\n",
    "clf_dt= DecisionTreeClassifier(max_depth= 3, random_state= seed)\n",
    "clf_knn= KNeighborsClassifier(n_neighbors= 8)\n",
    "clf_nn_mlp= MLPClassifier((80, 100), early_stopping= False, random_state= seed)\n",
    "clf_rf= RandomForestClassifier(n_estimators= 10, max_features= 3, random_state= seed)\n",
    "clf_gbc= GradientBoostingClassifier(n_estimators= 100, random_state= seed)"
   ]
  },
  {
   "cell_type": "code",
   "execution_count": 65,
   "metadata": {},
   "outputs": [],
   "source": [
    "classifier= [clf_log, clf_gnb, clf_dt, clf_knn, clf_nn_mlp, clf_rf, clf_gbc]\n",
    "name= ['LogisticRegression', 'GaussianNB', 'DecisionTreeClassifier', 'KNeighborsClassifier', 'MLPClassifier', \n",
    "       'RandomForestClassifier', 'GradientBoostingClassifier']"
   ]
  },
  {
   "cell_type": "code",
   "execution_count": 66,
   "metadata": {},
   "outputs": [],
   "source": [
    "def model_auc(classifier, X_train, X_test, y_train, y_test, name):\n",
    "    acc_roc= []\n",
    "    #create prediction matrix\n",
    "    #pred_matrix= np.zeros((y_test.shape[0], len(classifier)))\n",
    "    #pred_matrix= pd.DataFrame(pred_matrix)\n",
    "    \n",
    "    #fitting model\n",
    "    for model in classifier:\n",
    "        model.fit(X_train, y_train)\n",
    "        \n",
    "        prediction= model.predict_proba(X_test)[::, -1]\n",
    "        \n",
    "        score_roc= roc_auc_score(y_test, prediction)\n",
    "        \n",
    "        acc_roc.append(score_roc)\n",
    "        \n",
    "    #create df \n",
    "    df= pd.DataFrame({\n",
    "        'Model': name,\n",
    "        'Accuracy': acc_roc\n",
    "    })\n",
    "    \n",
    "    return df"
   ]
  },
  {
   "cell_type": "code",
   "execution_count": 67,
   "metadata": {},
   "outputs": [],
   "source": [
    "df_result_2= model_auc(classifier, X_train, X_test, y_train, y_test, name)"
   ]
  },
  {
   "cell_type": "code",
   "execution_count": 68,
   "metadata": {},
   "outputs": [
    {
     "data": {
      "text/html": [
       "<div>\n",
       "<style scoped>\n",
       "    .dataframe tbody tr th:only-of-type {\n",
       "        vertical-align: middle;\n",
       "    }\n",
       "\n",
       "    .dataframe tbody tr th {\n",
       "        vertical-align: top;\n",
       "    }\n",
       "\n",
       "    .dataframe thead th {\n",
       "        text-align: right;\n",
       "    }\n",
       "</style>\n",
       "<table border=\"1\" class=\"dataframe\">\n",
       "  <thead>\n",
       "    <tr style=\"text-align: right;\">\n",
       "      <th></th>\n",
       "      <th>Accuracy</th>\n",
       "      <th>Model</th>\n",
       "    </tr>\n",
       "  </thead>\n",
       "  <tbody>\n",
       "    <tr>\n",
       "      <th>0</th>\n",
       "      <td>0.855575</td>\n",
       "      <td>LogisticRegression</td>\n",
       "    </tr>\n",
       "    <tr>\n",
       "      <th>1</th>\n",
       "      <td>0.784039</td>\n",
       "      <td>GaussianNB</td>\n",
       "    </tr>\n",
       "    <tr>\n",
       "      <th>2</th>\n",
       "      <td>0.740334</td>\n",
       "      <td>DecisionTreeClassifier</td>\n",
       "    </tr>\n",
       "    <tr>\n",
       "      <th>3</th>\n",
       "      <td>0.826587</td>\n",
       "      <td>KNeighborsClassifier</td>\n",
       "    </tr>\n",
       "    <tr>\n",
       "      <th>4</th>\n",
       "      <td>0.756196</td>\n",
       "      <td>MLPClassifier</td>\n",
       "    </tr>\n",
       "    <tr>\n",
       "      <th>5</th>\n",
       "      <td>0.850028</td>\n",
       "      <td>RandomForestClassifier</td>\n",
       "    </tr>\n",
       "    <tr>\n",
       "      <th>6</th>\n",
       "      <td>0.876399</td>\n",
       "      <td>GradientBoostingClassifier</td>\n",
       "    </tr>\n",
       "  </tbody>\n",
       "</table>\n",
       "</div>"
      ],
      "text/plain": [
       "   Accuracy                       Model\n",
       "0  0.855575          LogisticRegression\n",
       "1  0.784039                  GaussianNB\n",
       "2  0.740334      DecisionTreeClassifier\n",
       "3  0.826587        KNeighborsClassifier\n",
       "4  0.756196               MLPClassifier\n",
       "5  0.850028      RandomForestClassifier\n",
       "6  0.876399  GradientBoostingClassifier"
      ]
     },
     "execution_count": 68,
     "metadata": {},
     "output_type": "execute_result"
    }
   ],
   "source": [
    "df_result_2"
   ]
  },
  {
   "cell_type": "markdown",
   "metadata": {},
   "source": [
    "##### Here, we saw how the accuracy varied in individual learner and ensemble learner. As you observed the Logistic Regression algorithm works well in sparse matrix than other individual algorithm."
   ]
  },
  {
   "cell_type": "code",
   "execution_count": 69,
   "metadata": {},
   "outputs": [
    {
     "data": {
      "image/png": "[encoded data removed]",
      "text/plain": [
       "<matplotlib.figure.Figure at 0x1bc0a317470>"
      ]
     },
     "metadata": {},
     "output_type": "display_data"
    }
   ],
   "source": [
    "loc= [0,1,2,3,4,5,6]\n",
    "plt.plot(df_result_2['Accuracy'], 'k-', lw= 5.0)\n",
    "plt.xticks(loc, name, rotation= 75)\n",
    "plt.title('Accuracy Graph')\n",
    "plt.xlabel('Algorithms')\n",
    "plt.ylabel('Accuracy')\n",
    "plt.show()"
   ]
  },
  {
   "cell_type": "code",
   "execution_count": 70,
   "metadata": {},
   "outputs": [
    {
     "data": {
      "image/png": "[encoded data removed]",
      "text/plain": [
       "<matplotlib.figure.Figure at 0x1bc0a3174a8>"
      ]
     },
     "metadata": {},
     "output_type": "display_data"
    }
   ],
   "source": [
    "loc= [0, 1, 2, 3, 4, 5, 6]\n",
    "df_result_2['Accuracy'].plot(kind= 'bar', title= 'Accuracy Graph', color= 'blue')\n",
    "plt.xticks(loc, name, rotation= 75)\n",
    "plt.show()"
   ]
  },
  {
   "cell_type": "markdown",
   "metadata": {},
   "source": [
    "### Correlation Matrix"
   ]
  },
  {
   "cell_type": "code",
   "execution_count": 71,
   "metadata": {},
   "outputs": [],
   "source": [
    "models= {\n",
    "    'LogisticRegression': clf_log,\n",
    "    'GaussianNB': clf_gnb,\n",
    "    'DecisionTreeClassifier': clf_dt,\n",
    "    'KNeighborsClassifier': clf_knn,\n",
    "    'MLPClassifier': clf_nn_mlp,\n",
    "    'RandomForestClassifier': clf_rf,\n",
    "    'GradientBoostingClassifier': clf_gbc\n",
    "}"
   ]
  },
  {
   "cell_type": "code",
   "execution_count": 72,
   "metadata": {},
   "outputs": [],
   "source": [
    "def train_prediction(model_list, classifier):\n",
    "    P= np.zeros((y_test[0], len(classifier)))\n",
    "    P= pd.DataFrame(P)\n",
    "    cols= list()\n",
    "    for i, (name, model) in enumerate(model_list.items()):\n",
    "        model.fit(X_train, y_train)\n",
    "        \n",
    "        P.iloc[:, i]= model.predict_proba(X_test)[:,1]\n",
    "        \n",
    "        cols.append(name)\n",
    "        \n",
    "    P.columns= cols\n",
    "    \n",
    "    return P"
   ]
  },
  {
   "cell_type": "code",
   "execution_count": 73,
   "metadata": {},
   "outputs": [],
   "source": [
    "def score_model(P, y):\n",
    "    for model in P.columns:\n",
    "        score= roc_auc_score(y, P.loc[:, model])\n",
    "        \n",
    "    return P"
   ]
  },
  {
   "cell_type": "code",
   "execution_count": 74,
   "metadata": {},
   "outputs": [],
   "source": [
    "trained_models= train_prediction(models, classifier)\n",
    "result= score_model(trained_models, y_test)"
   ]
  },
  {
   "cell_type": "code",
   "execution_count": 75,
   "metadata": {},
   "outputs": [],
   "source": [
    "corr= result.corr()"
   ]
  },
  {
   "cell_type": "code",
   "execution_count": 76,
   "metadata": {},
   "outputs": [],
   "source": [
    "from mlens import visualization"
   ]
  },
  {
   "cell_type": "code",
   "execution_count": 77,
   "metadata": {},
   "outputs": [
    {
     "data": {
      "image/png": "[encoded data removed]",
      "text/plain": [
       "<matplotlib.figure.Figure at 0x1bc10cb0080>"
      ]
     },
     "metadata": {},
     "output_type": "display_data"
    }
   ],
   "source": [
    "visualization.corrmat(corr, inflate= False, figsize= (6,5))\n",
    "plt.show()"
   ]
  },
  {
   "cell_type": "markdown",
   "metadata": {},
   "source": [
    "##### Here, we saw how the accuracy of different model are correlated."
   ]
  },
  {
   "cell_type": "code",
   "execution_count": 78,
   "metadata": {},
   "outputs": [],
   "source": [
    "#from the correlation matrix I chose those classifier which have more correlation value more than 0.7\n",
    "#the models are logisticregression, decisisontreeclassfier, randomforestclassifier, gradientboostingclassifier\n",
    "#here I fit these in voting classifier\n",
    "clf_vote= VotingClassifier([('LogisticRegression', clf_log), ('DecisionTreeClassifier', clf_dt),\n",
    "                            ('RandomForestClassifier', clf_rf), ('GradientBoostingClassifier', clf_gbc),\n",
    "                            ('KNeighborsClassifier', clf_knn)], voting= 'soft')\n",
    "\n",
    "#now for stacking classifier I used decisiontreeclf, randomforestclf, gradientboosting clf as base_classifier\n",
    "#and meta_estimators as clf_log\n",
    "clf_stack= StackingClassifier([clf_dt, clf_rf, clf_gbc], meta_classifier= clf_log)\n",
    "\n",
    "#for bagging and boosting I used the logistiregression as base_estimators\n",
    "clf_bag_log= BaggingClassifier(base_estimator= clf_log, random_state= seed)\n",
    "\n",
    "clf_boost_log= AdaBoostClassifier(base_estimator= clf_dt, random_state= seed)"
   ]
  },
  {
   "cell_type": "code",
   "execution_count": 79,
   "metadata": {},
   "outputs": [],
   "source": [
    "classifier_1= [clf_vote, clf_stack, clf_bag_log, clf_boost_log]\n",
    "name_1= ['VotingClassifier', 'StackingClassifier', 'BaggingClassifier', 'AdaBoostClassifier']"
   ]
  },
  {
   "cell_type": "code",
   "execution_count": 80,
   "metadata": {},
   "outputs": [],
   "source": [
    "models_1= {\n",
    "    'VotingClassifier': clf_vote,\n",
    "    'StackingClassifier': clf_stack,\n",
    "    'BaggingClassifier': clf_bag_log,\n",
    "    'AdaBoostClassifier': clf_boost_log\n",
    "}"
   ]
  },
  {
   "cell_type": "code",
   "execution_count": 81,
   "metadata": {},
   "outputs": [],
   "source": [
    "df_result_3= model_auc(classifier_1, X_train, X_test, y_train, y_test, name_1)"
   ]
  },
  {
   "cell_type": "code",
   "execution_count": 82,
   "metadata": {},
   "outputs": [
    {
     "data": {
      "text/html": [
       "<div>\n",
       "<style scoped>\n",
       "    .dataframe tbody tr th:only-of-type {\n",
       "        vertical-align: middle;\n",
       "    }\n",
       "\n",
       "    .dataframe tbody tr th {\n",
       "        vertical-align: top;\n",
       "    }\n",
       "\n",
       "    .dataframe thead th {\n",
       "        text-align: right;\n",
       "    }\n",
       "</style>\n",
       "<table border=\"1\" class=\"dataframe\">\n",
       "  <thead>\n",
       "    <tr style=\"text-align: right;\">\n",
       "      <th></th>\n",
       "      <th>Accuracy</th>\n",
       "      <th>Model</th>\n",
       "    </tr>\n",
       "  </thead>\n",
       "  <tbody>\n",
       "    <tr>\n",
       "      <th>0</th>\n",
       "      <td>0.883899</td>\n",
       "      <td>VotingClassifier</td>\n",
       "    </tr>\n",
       "    <tr>\n",
       "      <th>1</th>\n",
       "      <td>0.770660</td>\n",
       "      <td>StackingClassifier</td>\n",
       "    </tr>\n",
       "    <tr>\n",
       "      <th>2</th>\n",
       "      <td>0.858534</td>\n",
       "      <td>BaggingClassifier</td>\n",
       "    </tr>\n",
       "    <tr>\n",
       "      <th>3</th>\n",
       "      <td>0.863472</td>\n",
       "      <td>AdaBoostClassifier</td>\n",
       "    </tr>\n",
       "  </tbody>\n",
       "</table>\n",
       "</div>"
      ],
      "text/plain": [
       "   Accuracy               Model\n",
       "0  0.883899    VotingClassifier\n",
       "1  0.770660  StackingClassifier\n",
       "2  0.858534   BaggingClassifier\n",
       "3  0.863472  AdaBoostClassifier"
      ]
     },
     "execution_count": 82,
     "metadata": {},
     "output_type": "execute_result"
    }
   ],
   "source": [
    "df_result_3"
   ]
  },
  {
   "cell_type": "code",
   "execution_count": 86,
   "metadata": {},
   "outputs": [
    {
     "data": {
      "image/png": "[encoded data removed]",
      "text/plain": [
       "<matplotlib.figure.Figure at 0x1bc117c4588>"
      ]
     },
     "metadata": {},
     "output_type": "display_data"
    }
   ],
   "source": [
    "loc= [0,1,2,3]\n",
    "df_result_3['Accuracy'].plot(kind= 'bar', title= 'Accuracy on External Ensembling')\n",
    "plt.xticks(loc, name_1, rotation= 45)\n",
    "plt.show()"
   ]
  },
  {
   "cell_type": "code",
   "execution_count": 83,
   "metadata": {},
   "outputs": [],
   "source": [
    "trained_models_1= train_prediction(models_1, classifier_1)\n",
    "result_1= score_model(trained_models_1, y_test)"
   ]
  },
  {
   "cell_type": "code",
   "execution_count": 84,
   "metadata": {},
   "outputs": [
    {
     "data": {
      "text/html": [
       "<div>\n",
       "<style scoped>\n",
       "    .dataframe tbody tr th:only-of-type {\n",
       "        vertical-align: middle;\n",
       "    }\n",
       "\n",
       "    .dataframe tbody tr th {\n",
       "        vertical-align: top;\n",
       "    }\n",
       "\n",
       "    .dataframe thead th {\n",
       "        text-align: right;\n",
       "    }\n",
       "</style>\n",
       "<table border=\"1\" class=\"dataframe\">\n",
       "  <thead>\n",
       "    <tr style=\"text-align: right;\">\n",
       "      <th></th>\n",
       "      <th>VotingClassifier</th>\n",
       "      <th>StackingClassifier</th>\n",
       "      <th>BaggingClassifier</th>\n",
       "      <th>AdaBoostClassifier</th>\n",
       "    </tr>\n",
       "  </thead>\n",
       "  <tbody>\n",
       "    <tr>\n",
       "      <th>0</th>\n",
       "      <td>0.873656</td>\n",
       "      <td>0.981875</td>\n",
       "      <td>0.928236</td>\n",
       "      <td>0.522054</td>\n",
       "    </tr>\n",
       "    <tr>\n",
       "      <th>1</th>\n",
       "      <td>0.977581</td>\n",
       "      <td>0.981875</td>\n",
       "      <td>0.993717</td>\n",
       "      <td>0.552305</td>\n",
       "    </tr>\n",
       "    <tr>\n",
       "      <th>2</th>\n",
       "      <td>0.923594</td>\n",
       "      <td>0.981875</td>\n",
       "      <td>0.903772</td>\n",
       "      <td>0.696251</td>\n",
       "    </tr>\n",
       "    <tr>\n",
       "      <th>3</th>\n",
       "      <td>0.878347</td>\n",
       "      <td>0.981875</td>\n",
       "      <td>0.897841</td>\n",
       "      <td>0.518851</td>\n",
       "    </tr>\n",
       "    <tr>\n",
       "      <th>4</th>\n",
       "      <td>0.817712</td>\n",
       "      <td>0.981875</td>\n",
       "      <td>0.898262</td>\n",
       "      <td>0.685736</td>\n",
       "    </tr>\n",
       "  </tbody>\n",
       "</table>\n",
       "</div>"
      ],
      "text/plain": [
       "   VotingClassifier  StackingClassifier  BaggingClassifier  AdaBoostClassifier\n",
       "0          0.873656            0.981875           0.928236            0.522054\n",
       "1          0.977581            0.981875           0.993717            0.552305\n",
       "2          0.923594            0.981875           0.903772            0.696251\n",
       "3          0.878347            0.981875           0.897841            0.518851\n",
       "4          0.817712            0.981875           0.898262            0.685736"
      ]
     },
     "execution_count": 84,
     "metadata": {},
     "output_type": "execute_result"
    }
   ],
   "source": [
    "result_1.head()"
   ]
  },
  {
   "cell_type": "code",
   "execution_count": 85,
   "metadata": {},
   "outputs": [
    {
     "data": {
      "image/png": "[encoded data removed]",
      "text/plain": [
       "<matplotlib.figure.Figure at 0x1bc115421d0>"
      ]
     },
     "metadata": {},
     "output_type": "display_data"
    },
    {
     "data": {
      "text/plain": [
       "<matplotlib.axes._subplots.AxesSubplot at 0x1bc11542860>"
      ]
     },
     "execution_count": 85,
     "metadata": {},
     "output_type": "execute_result"
    }
   ],
   "source": [
    "corr_1= result_1.corr()\n",
    "visualization.corrmat(corr_1, inflate= False, figsize= (6,5))"
   ]
  },
  {
   "cell_type": "markdown",
   "metadata": {},
   "source": [
    "##### Here, the BaggingClassifier and VotingClassifier is highly correlated and I got the Voting Classifier is best model according to the dataset given"
   ]
  },
  {
   "cell_type": "markdown",
   "metadata": {},
   "source": [
    "##### That's all about the study of ensemble learning"
   ]
  },
  {
   "cell_type": "code",
   "execution_count": null,
   "metadata": {},
   "outputs": [],
   "source": []
  }
 ],
 "metadata": {
  "kernelspec": {
   "display_name": "Python 3",
   "language": "python",
   "name": "python3"
  },
  "language_info": {
   "codemirror_mode": {
    "name": "ipython",
    "version": 3
   },
   "file_extension": ".py",
   "mimetype": "text/x-python",
   "name": "python",
   "nbconvert_exporter": "python",
   "pygments_lexer": "ipython3",
   "version": "3.6.4"
  }
 },
 "nbformat": 4,
 "nbformat_minor": 2
}
